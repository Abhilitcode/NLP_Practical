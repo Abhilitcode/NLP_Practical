{
  "nbformat": 4,
  "nbformat_minor": 0,
  "metadata": {
    "colab": {
      "provenance": [],
      "authorship_tag": "ABX9TyPHlWuay5OFW8d46tsGAA10",
      "include_colab_link": true
    },
    "kernelspec": {
      "name": "python3",
      "display_name": "Python 3"
    },
    "language_info": {
      "name": "python"
    }
  },
  "cells": [
    {
      "cell_type": "markdown",
      "metadata": {
        "id": "view-in-github",
        "colab_type": "text"
      },
      "source": [
        "<a href=\"https://colab.research.google.com/github/Abhilitcode/NLP_Practical/blob/main/Text_representation.ipynb\" target=\"_parent\"><img src=\"https://colab.research.google.com/assets/colab-badge.svg\" alt=\"Open In Colab\"/></a>"
      ]
    },
    {
      "cell_type": "markdown",
      "source": [
        "Understanding Bag-of-Words\n",
        "\n",
        "Bag-of-Words (BoW) is a technique used in natural language processing to convert text documents into numerical representations that can be understood by machine learning algorithms. It essentially counts the frequency of words in a document and represents it as a numerical vector.\n",
        "\n",
        "Key Points:\n",
        "\n",
        "Word Frequency: Each unique word in the vocabulary is assigned a specific index.\n",
        "Document Representation: A document is represented as a vector where each element corresponds to the frequency of a specific word in that document.\n",
        "Order and Syntax: BoW ignores the order and syntax of words, focusing solely on word occurrences.\n",
        "Example: A Simple Bag-of-Words Implementation"
      ],
      "metadata": {
        "id": "sHGzGYyUQqTd"
      }
    },
    {
      "cell_type": "markdown",
      "source": [
        "Creating a DataFrame and Applying Bag-of-Words"
      ],
      "metadata": {
        "id": "m7tTwQ-DRFLY"
      }
    },
    {
      "cell_type": "code",
      "execution_count": 1,
      "metadata": {
        "id": "DixwU0sZPFUN"
      },
      "outputs": [],
      "source": [
        "import pandas as pd\n",
        "from sklearn.feature_extraction.text import CountVectorizer"
      ]
    },
    {
      "cell_type": "code",
      "source": [
        "data = {'Document': ['This is the first document.',\n",
        "                      'This document is the second document.',\n",
        "                      'And the third one.',\n",
        "                      'Is this the first document?'], 'output':[1,1,0,0]}\n"
      ],
      "metadata": {
        "id": "z-OzAGdnRKD5"
      },
      "execution_count": 2,
      "outputs": []
    },
    {
      "cell_type": "code",
      "source": [
        "df = pd.DataFrame(data)"
      ],
      "metadata": {
        "id": "Wsr1HU2RRce5"
      },
      "execution_count": 3,
      "outputs": []
    },
    {
      "cell_type": "code",
      "source": [
        "df"
      ],
      "metadata": {
        "colab": {
          "base_uri": "https://localhost:8080/",
          "height": 175
        },
        "id": "8c_AjcaaRhgZ",
        "outputId": "ac945acc-fd10-4e97-ee5e-b968972200eb"
      },
      "execution_count": 4,
      "outputs": [
        {
          "output_type": "execute_result",
          "data": {
            "text/plain": [
              "                                Document  output\n",
              "0            This is the first document.       1\n",
              "1  This document is the second document.       1\n",
              "2                     And the third one.       0\n",
              "3            Is this the first document?       0"
            ],
            "text/html": [
              "\n",
              "  <div id=\"df-5159cab6-4386-4777-8e3a-dbb916504982\" class=\"colab-df-container\">\n",
              "    <div>\n",
              "<style scoped>\n",
              "    .dataframe tbody tr th:only-of-type {\n",
              "        vertical-align: middle;\n",
              "    }\n",
              "\n",
              "    .dataframe tbody tr th {\n",
              "        vertical-align: top;\n",
              "    }\n",
              "\n",
              "    .dataframe thead th {\n",
              "        text-align: right;\n",
              "    }\n",
              "</style>\n",
              "<table border=\"1\" class=\"dataframe\">\n",
              "  <thead>\n",
              "    <tr style=\"text-align: right;\">\n",
              "      <th></th>\n",
              "      <th>Document</th>\n",
              "      <th>output</th>\n",
              "    </tr>\n",
              "  </thead>\n",
              "  <tbody>\n",
              "    <tr>\n",
              "      <th>0</th>\n",
              "      <td>This is the first document.</td>\n",
              "      <td>1</td>\n",
              "    </tr>\n",
              "    <tr>\n",
              "      <th>1</th>\n",
              "      <td>This document is the second document.</td>\n",
              "      <td>1</td>\n",
              "    </tr>\n",
              "    <tr>\n",
              "      <th>2</th>\n",
              "      <td>And the third one.</td>\n",
              "      <td>0</td>\n",
              "    </tr>\n",
              "    <tr>\n",
              "      <th>3</th>\n",
              "      <td>Is this the first document?</td>\n",
              "      <td>0</td>\n",
              "    </tr>\n",
              "  </tbody>\n",
              "</table>\n",
              "</div>\n",
              "    <div class=\"colab-df-buttons\">\n",
              "\n",
              "  <div class=\"colab-df-container\">\n",
              "    <button class=\"colab-df-convert\" onclick=\"convertToInteractive('df-5159cab6-4386-4777-8e3a-dbb916504982')\"\n",
              "            title=\"Convert this dataframe to an interactive table.\"\n",
              "            style=\"display:none;\">\n",
              "\n",
              "  <svg xmlns=\"http://www.w3.org/2000/svg\" height=\"24px\" viewBox=\"0 -960 960 960\">\n",
              "    <path d=\"M120-120v-720h720v720H120Zm60-500h600v-160H180v160Zm220 220h160v-160H400v160Zm0 220h160v-160H400v160ZM180-400h160v-160H180v160Zm440 0h160v-160H620v160ZM180-180h160v-160H180v160Zm440 0h160v-160H620v160Z\"/>\n",
              "  </svg>\n",
              "    </button>\n",
              "\n",
              "  <style>\n",
              "    .colab-df-container {\n",
              "      display:flex;\n",
              "      gap: 12px;\n",
              "    }\n",
              "\n",
              "    .colab-df-convert {\n",
              "      background-color: #E8F0FE;\n",
              "      border: none;\n",
              "      border-radius: 50%;\n",
              "      cursor: pointer;\n",
              "      display: none;\n",
              "      fill: #1967D2;\n",
              "      height: 32px;\n",
              "      padding: 0 0 0 0;\n",
              "      width: 32px;\n",
              "    }\n",
              "\n",
              "    .colab-df-convert:hover {\n",
              "      background-color: #E2EBFA;\n",
              "      box-shadow: 0px 1px 2px rgba(60, 64, 67, 0.3), 0px 1px 3px 1px rgba(60, 64, 67, 0.15);\n",
              "      fill: #174EA6;\n",
              "    }\n",
              "\n",
              "    .colab-df-buttons div {\n",
              "      margin-bottom: 4px;\n",
              "    }\n",
              "\n",
              "    [theme=dark] .colab-df-convert {\n",
              "      background-color: #3B4455;\n",
              "      fill: #D2E3FC;\n",
              "    }\n",
              "\n",
              "    [theme=dark] .colab-df-convert:hover {\n",
              "      background-color: #434B5C;\n",
              "      box-shadow: 0px 1px 3px 1px rgba(0, 0, 0, 0.15);\n",
              "      filter: drop-shadow(0px 1px 2px rgba(0, 0, 0, 0.3));\n",
              "      fill: #FFFFFF;\n",
              "    }\n",
              "  </style>\n",
              "\n",
              "    <script>\n",
              "      const buttonEl =\n",
              "        document.querySelector('#df-5159cab6-4386-4777-8e3a-dbb916504982 button.colab-df-convert');\n",
              "      buttonEl.style.display =\n",
              "        google.colab.kernel.accessAllowed ? 'block' : 'none';\n",
              "\n",
              "      async function convertToInteractive(key) {\n",
              "        const element = document.querySelector('#df-5159cab6-4386-4777-8e3a-dbb916504982');\n",
              "        const dataTable =\n",
              "          await google.colab.kernel.invokeFunction('convertToInteractive',\n",
              "                                                    [key], {});\n",
              "        if (!dataTable) return;\n",
              "\n",
              "        const docLinkHtml = 'Like what you see? Visit the ' +\n",
              "          '<a target=\"_blank\" href=https://colab.research.google.com/notebooks/data_table.ipynb>data table notebook</a>'\n",
              "          + ' to learn more about interactive tables.';\n",
              "        element.innerHTML = '';\n",
              "        dataTable['output_type'] = 'display_data';\n",
              "        await google.colab.output.renderOutput(dataTable, element);\n",
              "        const docLink = document.createElement('div');\n",
              "        docLink.innerHTML = docLinkHtml;\n",
              "        element.appendChild(docLink);\n",
              "      }\n",
              "    </script>\n",
              "  </div>\n",
              "\n",
              "\n",
              "<div id=\"df-c41ec2dd-c51f-4a53-9247-49ebd99b0eb9\">\n",
              "  <button class=\"colab-df-quickchart\" onclick=\"quickchart('df-c41ec2dd-c51f-4a53-9247-49ebd99b0eb9')\"\n",
              "            title=\"Suggest charts\"\n",
              "            style=\"display:none;\">\n",
              "\n",
              "<svg xmlns=\"http://www.w3.org/2000/svg\" height=\"24px\"viewBox=\"0 0 24 24\"\n",
              "     width=\"24px\">\n",
              "    <g>\n",
              "        <path d=\"M19 3H5c-1.1 0-2 .9-2 2v14c0 1.1.9 2 2 2h14c1.1 0 2-.9 2-2V5c0-1.1-.9-2-2-2zM9 17H7v-7h2v7zm4 0h-2V7h2v10zm4 0h-2v-4h2v4z\"/>\n",
              "    </g>\n",
              "</svg>\n",
              "  </button>\n",
              "\n",
              "<style>\n",
              "  .colab-df-quickchart {\n",
              "      --bg-color: #E8F0FE;\n",
              "      --fill-color: #1967D2;\n",
              "      --hover-bg-color: #E2EBFA;\n",
              "      --hover-fill-color: #174EA6;\n",
              "      --disabled-fill-color: #AAA;\n",
              "      --disabled-bg-color: #DDD;\n",
              "  }\n",
              "\n",
              "  [theme=dark] .colab-df-quickchart {\n",
              "      --bg-color: #3B4455;\n",
              "      --fill-color: #D2E3FC;\n",
              "      --hover-bg-color: #434B5C;\n",
              "      --hover-fill-color: #FFFFFF;\n",
              "      --disabled-bg-color: #3B4455;\n",
              "      --disabled-fill-color: #666;\n",
              "  }\n",
              "\n",
              "  .colab-df-quickchart {\n",
              "    background-color: var(--bg-color);\n",
              "    border: none;\n",
              "    border-radius: 50%;\n",
              "    cursor: pointer;\n",
              "    display: none;\n",
              "    fill: var(--fill-color);\n",
              "    height: 32px;\n",
              "    padding: 0;\n",
              "    width: 32px;\n",
              "  }\n",
              "\n",
              "  .colab-df-quickchart:hover {\n",
              "    background-color: var(--hover-bg-color);\n",
              "    box-shadow: 0 1px 2px rgba(60, 64, 67, 0.3), 0 1px 3px 1px rgba(60, 64, 67, 0.15);\n",
              "    fill: var(--button-hover-fill-color);\n",
              "  }\n",
              "\n",
              "  .colab-df-quickchart-complete:disabled,\n",
              "  .colab-df-quickchart-complete:disabled:hover {\n",
              "    background-color: var(--disabled-bg-color);\n",
              "    fill: var(--disabled-fill-color);\n",
              "    box-shadow: none;\n",
              "  }\n",
              "\n",
              "  .colab-df-spinner {\n",
              "    border: 2px solid var(--fill-color);\n",
              "    border-color: transparent;\n",
              "    border-bottom-color: var(--fill-color);\n",
              "    animation:\n",
              "      spin 1s steps(1) infinite;\n",
              "  }\n",
              "\n",
              "  @keyframes spin {\n",
              "    0% {\n",
              "      border-color: transparent;\n",
              "      border-bottom-color: var(--fill-color);\n",
              "      border-left-color: var(--fill-color);\n",
              "    }\n",
              "    20% {\n",
              "      border-color: transparent;\n",
              "      border-left-color: var(--fill-color);\n",
              "      border-top-color: var(--fill-color);\n",
              "    }\n",
              "    30% {\n",
              "      border-color: transparent;\n",
              "      border-left-color: var(--fill-color);\n",
              "      border-top-color: var(--fill-color);\n",
              "      border-right-color: var(--fill-color);\n",
              "    }\n",
              "    40% {\n",
              "      border-color: transparent;\n",
              "      border-right-color: var(--fill-color);\n",
              "      border-top-color: var(--fill-color);\n",
              "    }\n",
              "    60% {\n",
              "      border-color: transparent;\n",
              "      border-right-color: var(--fill-color);\n",
              "    }\n",
              "    80% {\n",
              "      border-color: transparent;\n",
              "      border-right-color: var(--fill-color);\n",
              "      border-bottom-color: var(--fill-color);\n",
              "    }\n",
              "    90% {\n",
              "      border-color: transparent;\n",
              "      border-bottom-color: var(--fill-color);\n",
              "    }\n",
              "  }\n",
              "</style>\n",
              "\n",
              "  <script>\n",
              "    async function quickchart(key) {\n",
              "      const quickchartButtonEl =\n",
              "        document.querySelector('#' + key + ' button');\n",
              "      quickchartButtonEl.disabled = true;  // To prevent multiple clicks.\n",
              "      quickchartButtonEl.classList.add('colab-df-spinner');\n",
              "      try {\n",
              "        const charts = await google.colab.kernel.invokeFunction(\n",
              "            'suggestCharts', [key], {});\n",
              "      } catch (error) {\n",
              "        console.error('Error during call to suggestCharts:', error);\n",
              "      }\n",
              "      quickchartButtonEl.classList.remove('colab-df-spinner');\n",
              "      quickchartButtonEl.classList.add('colab-df-quickchart-complete');\n",
              "    }\n",
              "    (() => {\n",
              "      let quickchartButtonEl =\n",
              "        document.querySelector('#df-c41ec2dd-c51f-4a53-9247-49ebd99b0eb9 button');\n",
              "      quickchartButtonEl.style.display =\n",
              "        google.colab.kernel.accessAllowed ? 'block' : 'none';\n",
              "    })();\n",
              "  </script>\n",
              "</div>\n",
              "\n",
              "  <div id=\"id_746c46b8-866b-4556-af31-f68fad6c3942\">\n",
              "    <style>\n",
              "      .colab-df-generate {\n",
              "        background-color: #E8F0FE;\n",
              "        border: none;\n",
              "        border-radius: 50%;\n",
              "        cursor: pointer;\n",
              "        display: none;\n",
              "        fill: #1967D2;\n",
              "        height: 32px;\n",
              "        padding: 0 0 0 0;\n",
              "        width: 32px;\n",
              "      }\n",
              "\n",
              "      .colab-df-generate:hover {\n",
              "        background-color: #E2EBFA;\n",
              "        box-shadow: 0px 1px 2px rgba(60, 64, 67, 0.3), 0px 1px 3px 1px rgba(60, 64, 67, 0.15);\n",
              "        fill: #174EA6;\n",
              "      }\n",
              "\n",
              "      [theme=dark] .colab-df-generate {\n",
              "        background-color: #3B4455;\n",
              "        fill: #D2E3FC;\n",
              "      }\n",
              "\n",
              "      [theme=dark] .colab-df-generate:hover {\n",
              "        background-color: #434B5C;\n",
              "        box-shadow: 0px 1px 3px 1px rgba(0, 0, 0, 0.15);\n",
              "        filter: drop-shadow(0px 1px 2px rgba(0, 0, 0, 0.3));\n",
              "        fill: #FFFFFF;\n",
              "      }\n",
              "    </style>\n",
              "    <button class=\"colab-df-generate\" onclick=\"generateWithVariable('df')\"\n",
              "            title=\"Generate code using this dataframe.\"\n",
              "            style=\"display:none;\">\n",
              "\n",
              "  <svg xmlns=\"http://www.w3.org/2000/svg\" height=\"24px\"viewBox=\"0 0 24 24\"\n",
              "       width=\"24px\">\n",
              "    <path d=\"M7,19H8.4L18.45,9,17,7.55,7,17.6ZM5,21V16.75L18.45,3.32a2,2,0,0,1,2.83,0l1.4,1.43a1.91,1.91,0,0,1,.58,1.4,1.91,1.91,0,0,1-.58,1.4L9.25,21ZM18.45,9,17,7.55Zm-12,3A5.31,5.31,0,0,0,4.9,8.1,5.31,5.31,0,0,0,1,6.5,5.31,5.31,0,0,0,4.9,4.9,5.31,5.31,0,0,0,6.5,1,5.31,5.31,0,0,0,8.1,4.9,5.31,5.31,0,0,0,12,6.5,5.46,5.46,0,0,0,6.5,12Z\"/>\n",
              "  </svg>\n",
              "    </button>\n",
              "    <script>\n",
              "      (() => {\n",
              "      const buttonEl =\n",
              "        document.querySelector('#id_746c46b8-866b-4556-af31-f68fad6c3942 button.colab-df-generate');\n",
              "      buttonEl.style.display =\n",
              "        google.colab.kernel.accessAllowed ? 'block' : 'none';\n",
              "\n",
              "      buttonEl.onclick = () => {\n",
              "        google.colab.notebook.generateWithVariable('df');\n",
              "      }\n",
              "      })();\n",
              "    </script>\n",
              "  </div>\n",
              "\n",
              "    </div>\n",
              "  </div>\n"
            ],
            "application/vnd.google.colaboratory.intrinsic+json": {
              "type": "dataframe",
              "variable_name": "df",
              "summary": "{\n  \"name\": \"df\",\n  \"rows\": 4,\n  \"fields\": [\n    {\n      \"column\": \"Document\",\n      \"properties\": {\n        \"dtype\": \"string\",\n        \"num_unique_values\": 4,\n        \"samples\": [\n          \"This document is the second document.\",\n          \"Is this the first document?\",\n          \"This is the first document.\"\n        ],\n        \"semantic_type\": \"\",\n        \"description\": \"\"\n      }\n    },\n    {\n      \"column\": \"output\",\n      \"properties\": {\n        \"dtype\": \"number\",\n        \"std\": 0,\n        \"min\": 0,\n        \"max\": 1,\n        \"num_unique_values\": 2,\n        \"samples\": [\n          0,\n          1\n        ],\n        \"semantic_type\": \"\",\n        \"description\": \"\"\n      }\n    }\n  ]\n}"
            }
          },
          "metadata": {},
          "execution_count": 4
        }
      ]
    },
    {
      "cell_type": "code",
      "source": [
        "cv = CountVectorizer(ngram_range=(2,2))"
      ],
      "metadata": {
        "id": "B2PA88-HRiZb"
      },
      "execution_count": 18,
      "outputs": []
    },
    {
      "cell_type": "markdown",
      "source": [
        "Understanding bow = cv.fit_transform(df['Document'])\n",
        "\n",
        "This line of code is a common step in text preprocessing for machine learning tasks, specifically when working with text data using the Bag-of-Words (BoW) model. Let's break it down:\n",
        "\n",
        "1. cv = CountVectorizer():\n",
        "\n",
        "This creates an instance of the CountVectorizer class from the sklearn.feature_extraction.text module.\n",
        "The CountVectorizer is a tool used to convert a collection of text documents into a matrix of token counts.\n",
        "2. cv.fit_transform(df['Document']):\n",
        "\n",
        "This method applies the CountVectorizer to the specified column df['Document'] of the DataFrame df.\n",
        "It performs two operations:\n",
        "Fit: It learns the vocabulary from the text documents, identifying unique words.\n",
        "Transform: It transforms each document into a numerical feature vector, where each feature corresponds to a word in the vocabulary, and the value represents the frequency of that word in the document.\n",
        "3. bow:\n",
        "\n",
        "The resulting bow is a sparse matrix, often represented in Compressed Sparse Row (CSR) format.\n",
        "Each row corresponds to a document, and each column corresponds to a word in the vocabulary.\n",
        "The values in the matrix represent the frequency of the corresponding word in the respective document.\n",
        "In essence:\n",
        "\n",
        "This line of code converts a collection of text documents into a numerical representation that can be used as input for machine learning algorithms. By transforming text data into numerical features, we enable models to understand and process text effectively.\n",
        "\n",
        "Example:\n",
        "\n",
        "Consider the following text documents:\n",
        "\n",
        "doc1 = \"This is the first document.\"\n",
        "doc2 = \"This document is the second document.\"\n",
        "After applying the CountVectorizer, we might get a sparse matrix like:\n",
        "\n",
        "[[1 1 1 1 0]\n",
        " [1 2 1 0 1]]\n",
        "Here, each row represents a document, and each column represents a word. For instance, the first row indicates that \"this\" appears once, \"is\" appears once, \"the\" appears once, \"first\" appears once, and \"document\" appears once in the first document.\n",
        "\n",
        "By converting text into numerical representations, we can apply various machine learning algorithms, such as Naive Bayes, Support Vector Machines, or deep learning models, to tasks like text classification, sentiment analysis, or topic modeling."
      ],
      "metadata": {
        "id": "roXhn_m5TmkD"
      }
    },
    {
      "cell_type": "code",
      "source": [
        "bow = cv.fit_transform(df['Document'])"
      ],
      "metadata": {
        "id": "zfw9_9-OR9lh"
      },
      "execution_count": 6,
      "outputs": []
    },
    {
      "cell_type": "code",
      "source": [
        "print(cv.vocabulary_)"
      ],
      "metadata": {
        "colab": {
          "base_uri": "https://localhost:8080/"
        },
        "id": "26QohjATSKf2",
        "outputId": "6c8bb178-6251-4afb-8599-0f210d7e0e79"
      },
      "execution_count": 7,
      "outputs": [
        {
          "output_type": "stream",
          "name": "stdout",
          "text": [
            "{'this': 8, 'is': 3, 'the': 6, 'first': 2, 'document': 1, 'second': 5, 'and': 0, 'third': 7, 'one': 4}\n"
          ]
        }
      ]
    },
    {
      "cell_type": "markdown",
      "source": [
        "The output [[0 1 1 1 0 0 1 0 1]] represents the numerical representation of the first document in your dataset, as processed by the Bag-of-Words (BoW) model.\n",
        "\n",
        "Breakdown of the Output:\n",
        "\n",
        "Each element corresponds to a word in the vocabulary:\n",
        "\n",
        "Index 0: \"and\"\n",
        "Index 1: \"document\"\n",
        "Index 2: \"first\"\n",
        "Index 3: \"is\"\n",
        "Index 4: \"one\"\n",
        "Index 5: \"second\"\n",
        "Index 6: \"the\"\n",
        "Index 7: \"third\"\n",
        "Index 8: \"this\"\n",
        "The value at each index represents the frequency of the corresponding word in the document:\n",
        "\n",
        "\"and\": 0 (not present)\n",
        "\"document\": 1 (appears once)\n",
        "\"first\": 1 (appears once)\n",
        "\"is\": 1 (appears once)\n",
        "\"one\": 0 (not present)\n",
        "\"second\": 0 (not present)\n",
        "\"the\": 1 (appears once)\n",
        "\"third\": 0 (not present)\n",
        "\"this\": 1 (appears once)\n",
        "In essence:\n",
        "\n",
        "This numerical representation captures the word frequencies in the document, disregarding the order and grammar. This allows machine learning algorithms to process and analyze text data effectively.\n",
        "\n",
        "By converting text documents into such numerical representations, we can apply various machine learning techniques to tasks like text classification, sentiment analysis, and topic modeling."
      ],
      "metadata": {
        "id": "3NitG3koVbry"
      }
    },
    {
      "cell_type": "code",
      "source": [
        "print(bow[0].toarray())"
      ],
      "metadata": {
        "colab": {
          "base_uri": "https://localhost:8080/"
        },
        "id": "gNpAakipTr6x",
        "outputId": "5c09ac39-9d4d-4ccd-c4ee-8fa87784fea3"
      },
      "execution_count": 8,
      "outputs": [
        {
          "output_type": "stream",
          "name": "stdout",
          "text": [
            "[[0 1 1 1 0 0 1 0 1]]\n"
          ]
        }
      ]
    },
    {
      "cell_type": "code",
      "source": [
        "print(bow[2].toarray())"
      ],
      "metadata": {
        "colab": {
          "base_uri": "https://localhost:8080/"
        },
        "id": "bIBFUlDtVCUc",
        "outputId": "db7410b3-1470-4744-81c8-910ac1db9160"
      },
      "execution_count": 9,
      "outputs": [
        {
          "output_type": "stream",
          "name": "stdout",
          "text": [
            "[[1 0 0 0 1 0 1 1 0]]\n"
          ]
        }
      ]
    },
    {
      "cell_type": "markdown",
      "source": [
        "oov problem in on hot encoding gets solved here. the new word in sentence whihc is not present in vocabulary will be ignored."
      ],
      "metadata": {
        "id": "buSajB7rWhx0"
      }
    },
    {
      "cell_type": "code",
      "source": [
        "cv.transform([\"This document is the best and this used to be my first document\"]).toarray()"
      ],
      "metadata": {
        "colab": {
          "base_uri": "https://localhost:8080/"
        },
        "id": "S8xXHPNuWTEo",
        "outputId": "b33a8dfb-009a-45c5-84fe-d4f9b4608d3d"
      },
      "execution_count": 10,
      "outputs": [
        {
          "output_type": "execute_result",
          "data": {
            "text/plain": [
              "array([[1, 2, 1, 1, 0, 0, 1, 0, 2]])"
            ]
          },
          "metadata": {},
          "execution_count": 10
        }
      ]
    },
    {
      "cell_type": "code",
      "source": [
        "# Binary transformation using CountVectorizer with binary=True\n",
        "vectorizer_binary = CountVectorizer(binary=True)"
      ],
      "metadata": {
        "id": "dc2XlMf3W1zJ"
      },
      "execution_count": 11,
      "outputs": []
    },
    {
      "cell_type": "markdown",
      "source": [
        "Binary Transformation: The CountVectorizer(binary=True) creates a matrix where each term's presence is represented as 1 or 0 in each document.\n",
        "Max Features: The CountVectorizer(max_features=N) limits the vocabulary to the N most frequent terms."
      ],
      "metadata": {
        "id": "jVMD3ERZlgY7"
      }
    },
    {
      "cell_type": "code",
      "source": [
        "binary_matrix = vectorizer_binary.fit_transform(df['Document'])"
      ],
      "metadata": {
        "id": "HSxQXFdYlYxU"
      },
      "execution_count": 12,
      "outputs": []
    },
    {
      "cell_type": "code",
      "source": [
        "print(\"Binary Transformation Matrix (Binary=True):\")\n",
        "print(binary_matrix.toarray())"
      ],
      "metadata": {
        "colab": {
          "base_uri": "https://localhost:8080/"
        },
        "id": "5s3rAhI_lcfM",
        "outputId": "eb660ca8-840f-4128-e660-9b89be60703d"
      },
      "execution_count": 13,
      "outputs": [
        {
          "output_type": "stream",
          "name": "stdout",
          "text": [
            "Binary Transformation Matrix (Binary=True):\n",
            "[[0 1 1 1 0 0 1 0 1]\n",
            " [0 1 0 1 0 1 1 0 1]\n",
            " [1 0 0 0 1 0 1 1 0]\n",
            " [0 1 1 1 0 0 1 0 1]]\n"
          ]
        }
      ]
    },
    {
      "cell_type": "markdown",
      "source": [
        "The function get_feature_names_out() from CountVectorizer provides an array of the feature names (words in the vocabulary) learned during fitting."
      ],
      "metadata": {
        "id": "umUkxgm_mQV7"
      }
    },
    {
      "cell_type": "code",
      "source": [
        "print(\"Feature Names (Vocabulary):\", vectorizer_binary.get_feature_names_out())"
      ],
      "metadata": {
        "colab": {
          "base_uri": "https://localhost:8080/"
        },
        "id": "tj-J8p8Plwcr",
        "outputId": "7b5226cb-e4b9-4de7-8220-5286fd9ffbe8"
      },
      "execution_count": 14,
      "outputs": [
        {
          "output_type": "stream",
          "name": "stdout",
          "text": [
            "Feature Names (Vocabulary): ['and' 'document' 'first' 'is' 'one' 'second' 'the' 'third' 'this']\n"
          ]
        }
      ]
    },
    {
      "cell_type": "markdown",
      "source": [
        "max_features are mostly used when you have to remove rare words that are not needed.\n"
      ],
      "metadata": {
        "id": "3Ysl-qN0nI6u"
      }
    },
    {
      "cell_type": "code",
      "source": [
        "# Max features transformation using CountVectorizer\n",
        "max_features = 3  # Adjust the value as needed\n",
        "vectorizer_max_features = CountVectorizer(max_features=max_features)\n",
        "limited_matrix = vectorizer_max_features.fit_transform(df['Document'])\n",
        "\n",
        "# Print max features transformation results\n",
        "print(\"\\nMax Features Transformation Matrix (max_features=3):\")\n",
        "print(limited_matrix.toarray())\n",
        "print(\"Selected Feature Names (Limited Vocabulary):\", vectorizer_max_features.get_feature_names_out())"
      ],
      "metadata": {
        "colab": {
          "base_uri": "https://localhost:8080/"
        },
        "id": "xDSPeoSQmaaz",
        "outputId": "52b04405-2ed1-449e-f5c3-98b36d05afc6"
      },
      "execution_count": 15,
      "outputs": [
        {
          "output_type": "stream",
          "name": "stdout",
          "text": [
            "\n",
            "Max Features Transformation Matrix (max_features=3):\n",
            "[[1 1 1]\n",
            " [2 1 1]\n",
            " [0 0 1]\n",
            " [1 1 1]]\n",
            "Selected Feature Names (Limited Vocabulary): ['document' 'is' 'the']\n"
          ]
        }
      ]
    },
    {
      "cell_type": "markdown",
      "source": [
        "TOPIC- N_GRAM\n",
        "BOW OF (1,1) MEANS only unigram. then (2,2) means only bigram. and (1,2) means unigram and bigram. etc."
      ],
      "metadata": {
        "id": "4p7fFK9Dn1t8"
      }
    },
    {
      "cell_type": "code",
      "source": [
        "cv = CountVectorizer(ngram_range=(1,2))"
      ],
      "metadata": {
        "id": "JnWgXd-0maXr"
      },
      "execution_count": 23,
      "outputs": []
    },
    {
      "cell_type": "code",
      "source": [
        "bow = cv.fit_transform(df['Document'])"
      ],
      "metadata": {
        "id": "zdXQL9BcpV19"
      },
      "execution_count": 24,
      "outputs": []
    },
    {
      "cell_type": "markdown",
      "source": [
        "ngram_range=(2, 2) ensures that only bigrams (pairs of consecutive words) are extracted.\n",
        "ngram_range=(1, 2) would extract both unigrams and bigrams."
      ],
      "metadata": {
        "id": "q-_9zINxplIw"
      }
    },
    {
      "cell_type": "code",
      "source": [
        "print(cv.vocabulary_)"
      ],
      "metadata": {
        "colab": {
          "base_uri": "https://localhost:8080/"
        },
        "id": "1PPUDsNgpEd8",
        "outputId": "f08bc19d-84f4-472d-8dfe-84ecfb03299e"
      },
      "execution_count": 25,
      "outputs": [
        {
          "output_type": "stream",
          "name": "stdout",
          "text": [
            "{'this': 18, 'is': 6, 'the': 12, 'first': 4, 'document': 2, 'this is': 20, 'is the': 7, 'the first': 13, 'first document': 5, 'second': 10, 'this document': 19, 'document is': 3, 'the second': 14, 'second document': 11, 'and': 0, 'third': 16, 'one': 9, 'and the': 1, 'the third': 15, 'third one': 17, 'is this': 8, 'this the': 21}\n"
          ]
        }
      ]
    },
    {
      "cell_type": "code",
      "source": [
        "len(cv.vocabulary_)"
      ],
      "metadata": {
        "colab": {
          "base_uri": "https://localhost:8080/"
        },
        "id": "jU-LzGm5pJeS",
        "outputId": "692fff3a-6dbd-4369-c2b5-db6c1a5d14e3"
      },
      "execution_count": 26,
      "outputs": [
        {
          "output_type": "execute_result",
          "data": {
            "text/plain": [
              "22"
            ]
          },
          "metadata": {},
          "execution_count": 26
        }
      ]
    },
    {
      "cell_type": "markdown",
      "source": [
        "The **TF-IDF (Term Frequency-Inverse Document Frequency)** Vectorizer transforms text data into a matrix of **TF-IDF features**. It represents text in a way that assigns weights to words based on their frequency in a document (Term Frequency) and how common or rare they are across all documents (Inverse Document Frequency). The idea is to highlight important words and diminish the weight of more common, less informative words.\n",
        "\n",
        "Sure! Here are the descriptions of each component of the TF-IDF formula explained in words:\n",
        "\n",
        "### 1. Term Frequency (TF)\n",
        "**Description**: The term frequency measures how often a word (term) appears in a single document relative to the total number of words in that document.\n",
        "\n",
        "**Formula (in words)**:\n",
        "Term Frequency (TF) is calculated as:\n",
        "> The number of times the term appears in the document divided by the total number of terms (words) in the document.\n",
        "\n",
        "### 2. Inverse Document Frequency (IDF)\n",
        "**Description**: The inverse document frequency measures how important a term is across all the documents in the corpus. It decreases the weight of terms that occur very frequently across multiple documents and increases the weight for terms that appear rarely.\n",
        "\n",
        "**Formula (in words)**:\n",
        "Inverse Document Frequency (IDF) is calculated as:\n",
        "> The logarithm of the total number of documents divided by the number of documents containing the term.\n",
        "\n",
        "### 3. TF-IDF Weight\n",
        "**Description**: The TF-IDF weight of a term is the product of its term frequency and inverse document frequency. It helps to emphasize words that are important (frequent in a particular document) but uncommon (infrequent across all documents) in the entire corpus.\n",
        "\n",
        "**Formula (in words)**:\n",
        "TF-IDF is calculated as:\n",
        "> The term frequency multiplied by the inverse document frequency.\n",
        "\n",
        "Let me know if this explanation is clear or if you need further assistance!\n"
      ],
      "metadata": {
        "id": "9n_EA4XBtKtg"
      }
    },
    {
      "cell_type": "code",
      "source": [
        "from sklearn.feature_extraction.text import TfidfVectorizer"
      ],
      "metadata": {
        "id": "KdQ9qDltpyyK"
      },
      "execution_count": 27,
      "outputs": []
    },
    {
      "cell_type": "code",
      "source": [
        "tfidfvectorizer = TfidfVectorizer()"
      ],
      "metadata": {
        "id": "EZW761NattdB"
      },
      "execution_count": 28,
      "outputs": []
    },
    {
      "cell_type": "code",
      "source": [
        "tfidf_doc = tfidfvectorizer.fit_transform(df['Document'])"
      ],
      "metadata": {
        "id": "242oDrW7ty7x"
      },
      "execution_count": 29,
      "outputs": []
    },
    {
      "cell_type": "code",
      "source": [
        "tfidf_doc.toarray()"
      ],
      "metadata": {
        "colab": {
          "base_uri": "https://localhost:8080/"
        },
        "id": "ceZxi7WXt5IJ",
        "outputId": "6941d837-3c98-4347-ba31-62a63ae30764"
      },
      "execution_count": 30,
      "outputs": [
        {
          "output_type": "execute_result",
          "data": {
            "text/plain": [
              "array([[0.        , 0.43877674, 0.54197657, 0.43877674, 0.        ,\n",
              "        0.        , 0.35872874, 0.        , 0.43877674],\n",
              "       [0.        , 0.66215942, 0.        , 0.33107971, 0.        ,\n",
              "        0.51870034, 0.27067936, 0.        , 0.33107971],\n",
              "       [0.55280532, 0.        , 0.        , 0.        , 0.55280532,\n",
              "        0.        , 0.28847675, 0.55280532, 0.        ],\n",
              "       [0.        , 0.43877674, 0.54197657, 0.43877674, 0.        ,\n",
              "        0.        , 0.35872874, 0.        , 0.43877674]])"
            ]
          },
          "metadata": {},
          "execution_count": 30
        }
      ]
    },
    {
      "cell_type": "code",
      "source": [
        "# Display feature names (vocabulary)\n",
        "print(\"\\nFeature Names (Vocabulary):\")\n",
        "print(tfidfvectorizer.get_feature_names_out())"
      ],
      "metadata": {
        "colab": {
          "base_uri": "https://localhost:8080/"
        },
        "id": "0sYx7RHVt65a",
        "outputId": "554b012b-b885-4d38-8a7e-2a4e26eaea9f"
      },
      "execution_count": 32,
      "outputs": [
        {
          "output_type": "stream",
          "name": "stdout",
          "text": [
            "\n",
            "Feature Names (Vocabulary):\n",
            "['and' 'document' 'first' 'is' 'one' 'second' 'the' 'third' 'this']\n"
          ]
        }
      ]
    },
    {
      "cell_type": "markdown",
      "source": [
        "The IDF (Inverse Document Frequency) value is constant for a term across different documents because it is calculated based on the entire corpus, not on a single document.\n",
        "\n",
        "### Explanation:\n",
        "\n",
        "1. **IDF Calculation**:\n",
        "   - **IDF Formula (in words)**: The IDF is the logarithm of the total number of documents divided by the number of documents containing the term.\n",
        "   - This means the IDF value depends solely on:\n",
        "     - The total number of documents in the corpus.\n",
        "     - The number of documents in which the specific term appears.\n",
        "   - Since these values do not change for different documents within the same corpus, the IDF for a particular term remains constant for all documents.\n",
        "\n",
        "2. **Role of IDF**:\n",
        "   - The purpose of IDF is to scale down the weight of terms that appear frequently across many documents (e.g., common words) and scale up the weight of terms that are rare across the documents.\n",
        "   - A term appearing in many documents has a lower IDF value, while a term appearing in few documents has a higher IDF value.\n",
        "\n",
        "### Constant Nature Across Documents:\n",
        "- Because IDF is computed globally (based on the entire set of documents), its value remains constant regardless of which document we are calculating the term's TF-IDF weight for.\n",
        "- However, **TF** (Term Frequency) varies for each document, so the overall **TF-IDF** score for a term can differ from document to document even though the IDF is constant.\n",
        "\n",
        "### Example:\n",
        "- Suppose we have a corpus of 10 documents, and a term \"AI\" appears in 2 of them.\n",
        "- The **IDF** value of \"AI\" would be:\n",
        "  - IDF = log(10 / 2) = log(5).\n",
        "- This value (log(5)) remains the same for all documents in the corpus whenever we calculate the TF-IDF for \"AI\". However, the **TF** (term frequency) of \"AI\" will vary depending on how many times it appears in each specific document."
      ],
      "metadata": {
        "id": "2yIcjkJeum3M"
      }
    },
    {
      "cell_type": "code",
      "source": [
        "print(tfidfvectorizer.idf_)"
      ],
      "metadata": {
        "colab": {
          "base_uri": "https://localhost:8080/"
        },
        "id": "rVCMa2i1ubCE",
        "outputId": "40c8fcc5-2585-4031-e5fd-ac5730f4c9de"
      },
      "execution_count": 33,
      "outputs": [
        {
          "output_type": "stream",
          "name": "stdout",
          "text": [
            "[1.91629073 1.22314355 1.51082562 1.22314355 1.91629073 1.91629073\n",
            " 1.         1.91629073 1.22314355]\n"
          ]
        }
      ]
    },
    {
      "cell_type": "code",
      "source": [
        "len(tfidfvectorizer.idf_)"
      ],
      "metadata": {
        "colab": {
          "base_uri": "https://localhost:8080/"
        },
        "id": "L1KoCm1Nur7S",
        "outputId": "4b2dc63b-90ac-42f9-a03c-86a80f82207f"
      },
      "execution_count": 34,
      "outputs": [
        {
          "output_type": "execute_result",
          "data": {
            "text/plain": [
              "9"
            ]
          },
          "metadata": {},
          "execution_count": 34
        }
      ]
    },
    {
      "cell_type": "code",
      "source": [],
      "metadata": {
        "id": "mURrkzVjuvwa"
      },
      "execution_count": null,
      "outputs": []
    }
  ]
}