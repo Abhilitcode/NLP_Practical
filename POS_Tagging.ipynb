{
  "nbformat": 4,
  "nbformat_minor": 0,
  "metadata": {
    "colab": {
      "provenance": [],
      "gpuType": "T4",
      "authorship_tag": "ABX9TyNns1h2bgQCRg++WXtAMjBh",
      "include_colab_link": true
    },
    "kernelspec": {
      "name": "python3",
      "display_name": "Python 3"
    },
    "language_info": {
      "name": "python"
    },
    "accelerator": "GPU"
  },
  "cells": [
    {
      "cell_type": "markdown",
      "metadata": {
        "id": "view-in-github",
        "colab_type": "text"
      },
      "source": [
        "<a href=\"https://colab.research.google.com/github/Abhilitcode/NLP_Practical/blob/main/POS_Tagging.ipynb\" target=\"_parent\"><img src=\"https://colab.research.google.com/assets/colab-badge.svg\" alt=\"Open In Colab\"/></a>"
      ]
    },
    {
      "cell_type": "markdown",
      "source": [
        "SpaCy is a powerful and popular open-source Natural Language Processing (NLP) library in Python. It is designed specifically for production-level work and real-world use cases, making it widely used for building NLP pipelines. Here's why it's used and what it offers:\n",
        "\n",
        "### Key Features of SpaCy:\n",
        "1. **Fast and Efficient**: SpaCy is optimized for performance, making it faster than many other NLP libraries.\n",
        "2. **Pre-trained Models**: It provides pre-trained models for many languages, allowing you to easily work with tasks like part-of-speech tagging, named entity recognition, and dependency parsing.\n",
        "3. **Tokenization**: It breaks down text into smaller units (tokens), which is a fundamental step in NLP.\n",
        "4. **POS Tagging**: SpaCy assigns parts of speech (nouns, verbs, adjectives, etc.) to each token.\n",
        "5. **Named Entity Recognition (NER)**: It identifies entities like people, organizations, dates, and more from text.\n",
        "6. **Dependency Parsing**: It analyzes the grammatical structure of a sentence, showing relationships between words.\n",
        "7. **Custom Pipelines**: SpaCy allows you to build custom NLP pipelines by adding your own components for specific use cases.\n",
        "8. **Word Vectors**: It supports word vectors for semantic similarity comparisons and other tasks involving the meaning of words.\n",
        "9. **Integration with Deep Learning**: SpaCy is designed to work seamlessly with deep learning frameworks like PyTorch and TensorFlow for advanced use cases.\n",
        "\n",
        "### Common Use Cases of SpaCy:\n",
        "1. **Text Preprocessing**: Tokenizing, stemming, and lemmatizing text for further analysis.\n",
        "2. **Named Entity Recognition (NER)**: Extracting information like names, organizations, locations, etc., from text.\n",
        "3. **Dependency Parsing**: Understanding the syntactic structure of sentences, which is useful for tasks like question answering or relationship extraction.\n",
        "4. **Text Classification**: Assigning categories or labels to text (e.g., sentiment analysis, topic classification).\n",
        "5. **Machine Translation**: Serving as a preprocessing tool for translating text from one language to another.\n",
        "6. **Text Summarization**: Reducing text length while preserving important information.\n",
        "7. **Question Answering**: Providing relevant answers from a set of documents.\n",
        "8. **Information Extraction**: Extracting structured information from unstructured text.\n",
        "   \n",
        "### Why SpaCy Is Preferred:\n",
        "- **Ease of Use**: It has a simple and intuitive API for handling common NLP tasks.\n",
        "- **Production-Ready**: SpaCy is designed with production in mind, making it easy to scale for real-world applications.\n",
        "- **Extensive Documentation**: There is strong support and excellent documentation, making it beginner-friendly while offering advanced features.\n",
        "- **Multilingual Support**: It supports multiple languages out of the box, which is useful for global projects.\n",
        "\n",
        "In summary, SpaCy is used for building robust NLP pipelines, handling text processing tasks with high performance and scalability."
      ],
      "metadata": {
        "id": "7jWJXaE2hvhn"
      }
    },
    {
      "cell_type": "code",
      "execution_count": 20,
      "metadata": {
        "colab": {
          "base_uri": "https://localhost:8080/"
        },
        "id": "aHHHLvmZ2t67",
        "outputId": "5341014a-67cb-4235-edb0-a80da19a9f88"
      },
      "outputs": [
        {
          "output_type": "stream",
          "name": "stdout",
          "text": [
            "Requirement already satisfied: spacy in /usr/local/lib/python3.10/dist-packages (3.7.5)\n",
            "Requirement already satisfied: spacy-legacy<3.1.0,>=3.0.11 in /usr/local/lib/python3.10/dist-packages (from spacy) (3.0.12)\n",
            "Requirement already satisfied: spacy-loggers<2.0.0,>=1.0.0 in /usr/local/lib/python3.10/dist-packages (from spacy) (1.0.5)\n",
            "Requirement already satisfied: murmurhash<1.1.0,>=0.28.0 in /usr/local/lib/python3.10/dist-packages (from spacy) (1.0.10)\n",
            "Requirement already satisfied: cymem<2.1.0,>=2.0.2 in /usr/local/lib/python3.10/dist-packages (from spacy) (2.0.8)\n",
            "Requirement already satisfied: preshed<3.1.0,>=3.0.2 in /usr/local/lib/python3.10/dist-packages (from spacy) (3.0.9)\n",
            "Requirement already satisfied: thinc<8.3.0,>=8.2.2 in /usr/local/lib/python3.10/dist-packages (from spacy) (8.2.5)\n",
            "Requirement already satisfied: wasabi<1.2.0,>=0.9.1 in /usr/local/lib/python3.10/dist-packages (from spacy) (1.1.3)\n",
            "Requirement already satisfied: srsly<3.0.0,>=2.4.3 in /usr/local/lib/python3.10/dist-packages (from spacy) (2.4.8)\n",
            "Requirement already satisfied: catalogue<2.1.0,>=2.0.6 in /usr/local/lib/python3.10/dist-packages (from spacy) (2.0.10)\n",
            "Requirement already satisfied: weasel<0.5.0,>=0.1.0 in /usr/local/lib/python3.10/dist-packages (from spacy) (0.4.1)\n",
            "Requirement already satisfied: typer<1.0.0,>=0.3.0 in /usr/local/lib/python3.10/dist-packages (from spacy) (0.12.5)\n",
            "Requirement already satisfied: tqdm<5.0.0,>=4.38.0 in /usr/local/lib/python3.10/dist-packages (from spacy) (4.66.5)\n",
            "Requirement already satisfied: requests<3.0.0,>=2.13.0 in /usr/local/lib/python3.10/dist-packages (from spacy) (2.32.3)\n",
            "Requirement already satisfied: pydantic!=1.8,!=1.8.1,<3.0.0,>=1.7.4 in /usr/local/lib/python3.10/dist-packages (from spacy) (2.9.2)\n",
            "Requirement already satisfied: jinja2 in /usr/local/lib/python3.10/dist-packages (from spacy) (3.1.4)\n",
            "Requirement already satisfied: setuptools in /usr/local/lib/python3.10/dist-packages (from spacy) (75.1.0)\n",
            "Requirement already satisfied: packaging>=20.0 in /usr/local/lib/python3.10/dist-packages (from spacy) (24.1)\n",
            "Requirement already satisfied: langcodes<4.0.0,>=3.2.0 in /usr/local/lib/python3.10/dist-packages (from spacy) (3.4.1)\n",
            "Requirement already satisfied: numpy>=1.19.0 in /usr/local/lib/python3.10/dist-packages (from spacy) (1.26.4)\n",
            "Requirement already satisfied: language-data>=1.2 in /usr/local/lib/python3.10/dist-packages (from langcodes<4.0.0,>=3.2.0->spacy) (1.2.0)\n",
            "Requirement already satisfied: annotated-types>=0.6.0 in /usr/local/lib/python3.10/dist-packages (from pydantic!=1.8,!=1.8.1,<3.0.0,>=1.7.4->spacy) (0.7.0)\n",
            "Requirement already satisfied: pydantic-core==2.23.4 in /usr/local/lib/python3.10/dist-packages (from pydantic!=1.8,!=1.8.1,<3.0.0,>=1.7.4->spacy) (2.23.4)\n",
            "Requirement already satisfied: typing-extensions>=4.6.1 in /usr/local/lib/python3.10/dist-packages (from pydantic!=1.8,!=1.8.1,<3.0.0,>=1.7.4->spacy) (4.12.2)\n",
            "Requirement already satisfied: charset-normalizer<4,>=2 in /usr/local/lib/python3.10/dist-packages (from requests<3.0.0,>=2.13.0->spacy) (3.4.0)\n",
            "Requirement already satisfied: idna<4,>=2.5 in /usr/local/lib/python3.10/dist-packages (from requests<3.0.0,>=2.13.0->spacy) (3.10)\n",
            "Requirement already satisfied: urllib3<3,>=1.21.1 in /usr/local/lib/python3.10/dist-packages (from requests<3.0.0,>=2.13.0->spacy) (2.2.3)\n",
            "Requirement already satisfied: certifi>=2017.4.17 in /usr/local/lib/python3.10/dist-packages (from requests<3.0.0,>=2.13.0->spacy) (2024.8.30)\n",
            "Requirement already satisfied: blis<0.8.0,>=0.7.8 in /usr/local/lib/python3.10/dist-packages (from thinc<8.3.0,>=8.2.2->spacy) (0.7.11)\n",
            "Requirement already satisfied: confection<1.0.0,>=0.0.1 in /usr/local/lib/python3.10/dist-packages (from thinc<8.3.0,>=8.2.2->spacy) (0.1.5)\n",
            "Requirement already satisfied: click>=8.0.0 in /usr/local/lib/python3.10/dist-packages (from typer<1.0.0,>=0.3.0->spacy) (8.1.7)\n",
            "Requirement already satisfied: shellingham>=1.3.0 in /usr/local/lib/python3.10/dist-packages (from typer<1.0.0,>=0.3.0->spacy) (1.5.4)\n",
            "Requirement already satisfied: rich>=10.11.0 in /usr/local/lib/python3.10/dist-packages (from typer<1.0.0,>=0.3.0->spacy) (13.9.2)\n",
            "Requirement already satisfied: cloudpathlib<1.0.0,>=0.7.0 in /usr/local/lib/python3.10/dist-packages (from weasel<0.5.0,>=0.1.0->spacy) (0.19.0)\n",
            "Requirement already satisfied: smart-open<8.0.0,>=5.2.1 in /usr/local/lib/python3.10/dist-packages (from weasel<0.5.0,>=0.1.0->spacy) (7.0.5)\n",
            "Requirement already satisfied: MarkupSafe>=2.0 in /usr/local/lib/python3.10/dist-packages (from jinja2->spacy) (3.0.1)\n",
            "Requirement already satisfied: marisa-trie>=0.7.7 in /usr/local/lib/python3.10/dist-packages (from language-data>=1.2->langcodes<4.0.0,>=3.2.0->spacy) (1.2.1)\n",
            "Requirement already satisfied: markdown-it-py>=2.2.0 in /usr/local/lib/python3.10/dist-packages (from rich>=10.11.0->typer<1.0.0,>=0.3.0->spacy) (3.0.0)\n",
            "Requirement already satisfied: pygments<3.0.0,>=2.13.0 in /usr/local/lib/python3.10/dist-packages (from rich>=10.11.0->typer<1.0.0,>=0.3.0->spacy) (2.18.0)\n",
            "Requirement already satisfied: wrapt in /usr/local/lib/python3.10/dist-packages (from smart-open<8.0.0,>=5.2.1->weasel<0.5.0,>=0.1.0->spacy) (1.16.0)\n",
            "Requirement already satisfied: mdurl~=0.1 in /usr/local/lib/python3.10/dist-packages (from markdown-it-py>=2.2.0->rich>=10.11.0->typer<1.0.0,>=0.3.0->spacy) (0.1.2)\n"
          ]
        }
      ],
      "source": [
        "!pip install spacy"
      ]
    },
    {
      "cell_type": "code",
      "source": [
        "import spacy"
      ],
      "metadata": {
        "id": "pHVIj3KfhS9X"
      },
      "execution_count": 21,
      "outputs": []
    },
    {
      "cell_type": "markdown",
      "source": [
        "The code snippet you're referring to has a typo, but here's an explanation with the corrected code:\n",
        "\n",
        "```python\n",
        "spacy = spacy.load(\"en_core_web_sm\")\n",
        "```\n",
        "\n",
        "### What It Means:\n",
        "\n",
        "- **`spacy.load()`**: This function is used to load a pre-trained SpaCy model. Models in SpaCy contain pipelines for NLP tasks such as tokenization, part-of-speech tagging, named entity recognition, and more. You load the model to use its pipeline on text data.\n",
        "\n",
        "- **`\"en_core_web_sm\"`**: This is the name of one of SpaCy’s pre-trained models. Let's break it down:\n",
        "  - **`en`**: Indicates the language of the model (in this case, English).\n",
        "  - **`core`**: Denotes that this is a general-purpose, core model designed for common NLP tasks.\n",
        "  - **`web`**: Refers to the data source used to train the model, which in this case includes web texts.\n",
        "  - **`sm`**: Indicates the model's size (small). SpaCy offers different model sizes, such as:\n",
        "    - **`sm`** (small): Fast, with fewer features, but good for lightweight tasks.\n",
        "    - **`md`** (medium): More comprehensive, with word vectors and more detailed pipelines.\n",
        "    - **`lg`** (large): Includes large word vectors for improved accuracy and detailed features.\n",
        "    \n",
        "### What It Does:\n",
        "\n",
        "- When you load the `\"en_core_web_sm\"` model, SpaCy initializes a pipeline that can process English text for various tasks like tokenization, part-of-speech (POS) tagging, named entity recognition (NER), and more.\n",
        "\n",
        "### Example Usage:\n",
        "After loading the model, you can use it to process text:\n",
        "\n",
        "```python\n",
        "import spacy\n",
        "\n",
        "# Load the small English model\n",
        "nlp = spacy.load(\"en_core_web_sm\")\n",
        "\n",
        "# Process a text string\n",
        "doc = nlp(\"Apple is looking at buying a U.K. startup for $1 billion\")\n",
        "\n",
        "# Extract tokens, POS tags, entities, etc.\n",
        "for token in doc:\n",
        "    print(token.text, token.pos_, token.dep_)\n",
        "\n",
        "# Named entity recognition (NER)\n",
        "for ent in doc.ents:\n",
        "    print(ent.text, ent.label_)\n",
        "```\n",
        "\n",
        "### Why Use `en_core_web_sm`?\n",
        "This small model is often used for tasks that require:\n",
        "- **Quick processing**: Since it’s small, it’s faster to load and use.\n",
        "- **Basic NLP tasks**: If you don’t need highly detailed word vectors or more complex parsing, this model works well.\n",
        "\n",
        "In more complex applications where accuracy is critical, you might opt for a larger model (e.g., `en_core_web_md` or `en_core_web_lg`).\n"
      ],
      "metadata": {
        "id": "p8_nsc_djoZi"
      }
    },
    {
      "cell_type": "code",
      "source": [
        "nlp = spacy.load('en_core_web_sm')"
      ],
      "metadata": {
        "colab": {
          "base_uri": "https://localhost:8080/"
        },
        "id": "5tLrAIy0h4ib",
        "outputId": "0fb7a8e1-e383-45ba-af50-ffe418afb528"
      },
      "execution_count": 22,
      "outputs": [
        {
          "output_type": "stream",
          "name": "stderr",
          "text": [
            "/usr/local/lib/python3.10/dist-packages/spacy/util.py:1740: UserWarning: [W111] Jupyter notebook detected: if using `prefer_gpu()` or `require_gpu()`, include it in the same cell right before `spacy.load()` to ensure that the model is loaded on the correct device. More information: http://spacy.io/usage/v3#jupyter-notebook-gpu\n",
            "  warnings.warn(Warnings.W111)\n"
          ]
        }
      ]
    },
    {
      "cell_type": "code",
      "source": [
        "doc = nlp(\"My name is Abhishek and i will purchase a book today\")"
      ],
      "metadata": {
        "id": "rJ_EPCOFj5LK"
      },
      "execution_count": 23,
      "outputs": []
    },
    {
      "cell_type": "markdown",
      "source": [
        ".text is some of the attributes of nlp model"
      ],
      "metadata": {
        "id": "N6NN_jKUkxbt"
      }
    },
    {
      "cell_type": "code",
      "source": [
        "doc.text"
      ],
      "metadata": {
        "colab": {
          "base_uri": "https://localhost:8080/",
          "height": 35
        },
        "id": "kO0ISEOpkNor",
        "outputId": "bdb8bca0-64f6-4bf8-d852-d8d376a87fa3"
      },
      "execution_count": 24,
      "outputs": [
        {
          "output_type": "execute_result",
          "data": {
            "text/plain": [
              "'My name is Abhishek and i will purchase a book today'"
            ],
            "application/vnd.google.colaboratory.intrinsic+json": {
              "type": "string"
            }
          },
          "metadata": {},
          "execution_count": 24
        }
      ]
    },
    {
      "cell_type": "markdown",
      "source": [
        "doc.text[0]\n",
        "What it is: This accesses the first character of the entire processed document's text.\n",
        "\n",
        "Explanation: doc.text is a string representation of the entire text in the doc object. By using [0], you're accessing the first character (not the first token) of that string."
      ],
      "metadata": {
        "id": "3hGJVydulgpl"
      }
    },
    {
      "cell_type": "code",
      "source": [
        "doc.text[0]"
      ],
      "metadata": {
        "colab": {
          "base_uri": "https://localhost:8080/",
          "height": 35
        },
        "id": "h0DbSi7akV4a",
        "outputId": "13f3d308-11fc-4bff-90e8-69d28dac9584"
      },
      "execution_count": 25,
      "outputs": [
        {
          "output_type": "execute_result",
          "data": {
            "text/plain": [
              "'M'"
            ],
            "application/vnd.google.colaboratory.intrinsic+json": {
              "type": "string"
            }
          },
          "metadata": {},
          "execution_count": 25
        }
      ]
    },
    {
      "cell_type": "markdown",
      "source": [
        "What it is: This accesses the first token in the doc object.\n",
        "\n",
        "Explanation: doc is a sequence of tokens, and using [0] gives you the first token, which is an object that contains much more information (like text, part-of-speech tags, etc.) than just the character."
      ],
      "metadata": {
        "id": "H6s77znGleuR"
      }
    },
    {
      "cell_type": "code",
      "source": [
        "doc[0]"
      ],
      "metadata": {
        "colab": {
          "base_uri": "https://localhost:8080/"
        },
        "id": "TmoihFnHk3zi",
        "outputId": "534320fa-0a84-4d5d-b739-2eb922e29efa"
      },
      "execution_count": 26,
      "outputs": [
        {
          "output_type": "execute_result",
          "data": {
            "text/plain": [
              "My"
            ]
          },
          "metadata": {},
          "execution_count": 26
        }
      ]
    },
    {
      "cell_type": "markdown",
      "source": [
        "In SpaCy, `pos_` and `tag_` are attributes of tokens that provide information about the grammatical roles of the words in a sentence. These attributes are assigned during the part-of-speech tagging process, which is an important step in Natural Language Processing (NLP).\n",
        "\n",
        "### 1. **`pos_`** (Part-of-Speech)\n",
        "- **Description**: `pos_` returns the coarse or universal part-of-speech tag for a token. These are general categories of words, like **noun**, **verb**, **adjective**, etc.\n",
        "- **Examples of `pos_` values**:\n",
        "  - `NOUN`: Noun (person, place, thing)\n",
        "  - `VERB`: Verb (action word)\n",
        "  - `ADJ`: Adjective (describes a noun)\n",
        "  - `ADV`: Adverb (modifies a verb, adjective, or other adverbs)\n",
        "  - `PRON`: Pronoun (replaces a noun)\n",
        "  - `PROPN`: Proper noun (specific name, like \"Apple\")\n",
        "\n",
        "  **Example Usage**:\n",
        "  ```python\n",
        "  doc = nlp(\"Apple is looking at buying a U.K. startup for $1 billion\")\n",
        "  for token in doc:\n",
        "      print(token.text, token.pos_)\n",
        "  ```\n",
        "\n",
        "  **Output** (for each word):\n",
        "  ```\n",
        "  Apple PROPN\n",
        "  is AUX\n",
        "  looking VERB\n",
        "  at ADP\n",
        "  buying VERB\n",
        "  a DET\n",
        "  U.K. PROPN\n",
        "  startup NOUN\n",
        "  for ADP\n",
        "  $ SYM\n",
        "  1 NUM\n",
        "  billion NUM\n",
        "  ```\n",
        "\n",
        "### 2. **`tag_`** (Detailed Part-of-Speech Tag)\n",
        "- **Description**: `tag_` provides a more fine-grained, detailed part-of-speech tag based on the specific language's grammar. It gives additional information about tense, number, gender, case, etc. in the context of the language you're working with.\n",
        "- **Examples of `tag_` values** (for English):\n",
        "  - `NN`: Noun, singular\n",
        "  - `NNS`: Noun, plural\n",
        "  - `VB`: Verb, base form\n",
        "  - `VBD`: Verb, past tense\n",
        "  - `JJ`: Adjective\n",
        "  - `RB`: Adverb\n",
        "\n",
        "  **Example Usage**:\n",
        "  ```python\n",
        "  doc = nlp(\"Apple is looking at buying a U.K. startup for $1 billion\")\n",
        "  for token in doc:\n",
        "      print(token.text, token.tag_)\n",
        "  ```\n",
        "\n",
        "  **Output** (for each word):\n",
        "  ```\n",
        "  Apple NNP\n",
        "  is VBZ\n",
        "  looking VBG\n",
        "  at IN\n",
        "  buying VBG\n",
        "  a DT\n",
        "  U.K. NNP\n",
        "  startup NN\n",
        "  for IN\n",
        "  $ $\n",
        "  1 CD\n",
        "  billion CD\n",
        "  ```\n",
        "\n",
        "### Difference Between `pos_` and `tag_`:\n",
        "- **`pos_`**: Coarse, general category of the word (universal POS tags). It tells you **what kind of word** it is.\n",
        "- **`tag_`**: Fine-grained, detailed tag based on the specific grammar of the language. It tells you **additional grammatical information** about the word (e.g., tense, number).\n",
        "\n",
        "### Example for Both `pos_` and `tag_`:\n",
        "```python\n",
        "doc = nlp(\"She was reading a book.\")\n",
        "for token in doc:\n",
        "    print(token.text, token.pos_, token.tag_)\n",
        "```\n",
        "\n",
        "**Output**:\n",
        "```\n",
        "She PRON PRP\n",
        "was AUX VBD\n",
        "reading VERB VBG\n",
        "a DET DT\n",
        "book NOUN NN\n",
        "```\n",
        "\n",
        "- In this case, `pos_` indicates general categories (PRON for pronoun, AUX for auxiliary verb), while `tag_` gives more specific details (`PRP` for personal pronoun, `VBD` for past tense verb, etc.).\n",
        "\n",
        "These attributes allow you to extract and analyze grammatical information from text for various NLP tasks."
      ],
      "metadata": {
        "id": "tyKr5UKpnADQ"
      }
    },
    {
      "cell_type": "code",
      "source": [
        "doc[0].pos_"
      ],
      "metadata": {
        "colab": {
          "base_uri": "https://localhost:8080/",
          "height": 35
        },
        "id": "VK3uJOCIlAaS",
        "outputId": "e27c9195-4960-4441-f0a0-ae693642e8b1"
      },
      "execution_count": 27,
      "outputs": [
        {
          "output_type": "execute_result",
          "data": {
            "text/plain": [
              "'PRON'"
            ],
            "application/vnd.google.colaboratory.intrinsic+json": {
              "type": "string"
            }
          },
          "metadata": {},
          "execution_count": 27
        }
      ]
    },
    {
      "cell_type": "markdown",
      "source": [
        "The attribute .text represents the entire text as a string, and iterating over it gives you individual characters, not tokens (words). if you need token you have to iterate through the doc. which will give you the token"
      ],
      "metadata": {
        "id": "9XwxB8yvn_AL"
      }
    },
    {
      "cell_type": "code",
      "source": [
        "for token in doc:\n",
        "  print(token.text, \"-------->\",token.pos_, token.tag_, spacy.explain(token.tag_))"
      ],
      "metadata": {
        "colab": {
          "base_uri": "https://localhost:8080/"
        },
        "id": "DtvfUNPKnLFy",
        "outputId": "27f0be4a-d07d-4f77-ac4f-8d9b2709d75b"
      },
      "execution_count": 28,
      "outputs": [
        {
          "output_type": "stream",
          "name": "stdout",
          "text": [
            "My --------> PRON PRP$ pronoun, possessive\n",
            "name --------> NOUN NN noun, singular or mass\n",
            "is --------> AUX VBZ verb, 3rd person singular present\n",
            "Abhishek --------> PROPN NNP noun, proper singular\n",
            "and --------> CCONJ CC conjunction, coordinating\n",
            "i --------> PRON PRP pronoun, personal\n",
            "will --------> AUX MD verb, modal auxiliary\n",
            "purchase --------> VERB VB verb, base form\n",
            "a --------> DET DT determiner\n",
            "book --------> NOUN NN noun, singular or mass\n",
            "today --------> NOUN NN noun, singular or mass\n"
          ]
        }
      ]
    },
    {
      "cell_type": "markdown",
      "source": [
        "The `pos_` (coarse part-of-speech tag) and `tag_` (fine-grained part-of-speech tag) for each word in the sentence. This is great for getting a detailed breakdown of the text.\n",
        "\n",
        "### Explanation of the output:\n",
        "\n",
        "- **My PRON PRP$**:\n",
        "  - `PRON`: Pronoun (a coarse tag).\n",
        "  - `PRP$`: Possessive pronoun (a more specific tag indicating possession, e.g., \"my,\" \"your\").\n",
        "  \n",
        "- **name NOUN NN**:\n",
        "  - `NOUN`: Noun (general part-of-speech tag).\n",
        "  - `NN`: Singular noun (fine-grained tag indicating singular form).\n",
        "\n",
        "- **is AUX VBZ**:\n",
        "  - `AUX`: Auxiliary verb (helper verb, used with a main verb).\n",
        "  - `VBZ`: Present tense verb, 3rd person singular (e.g., \"is,\" \"does\").\n",
        "\n",
        "- **Abhishek PROPN NNP**:\n",
        "  - `PROPN`: Proper noun (specific name).\n",
        "  - `NNP`: Proper noun, singular.\n",
        "\n",
        "- **and CCONJ CC**:\n",
        "  - `CCONJ`: Coordinating conjunction (joins two elements of equal importance, like \"and,\" \"or\").\n",
        "  - `CC`: The specific tag for coordinating conjunction.\n",
        "\n",
        "- **i PRON PRP**:\n",
        "  - `PRON`: Pronoun.\n",
        "  - `PRP`: Personal pronoun (e.g., \"I,\" \"he,\" \"she\").\n",
        "\n",
        "- **will AUX MD**:\n",
        "  - `AUX`: Auxiliary verb.\n",
        "  - `MD`: Modal verb (e.g., \"will,\" \"can,\" \"shall\").\n",
        "\n",
        "- **purchase VERB VB**:\n",
        "  - `VERB`: Verb (general action word).\n",
        "  - `VB`: Base form of a verb (e.g., \"purchase,\" \"eat\").\n",
        "\n",
        "- **a DET DT**:\n",
        "  - `DET`: Determiner (used to specify a noun, e.g., \"a,\" \"the\").\n",
        "  - `DT`: Determiner.\n",
        "\n",
        "- **book NOUN NN**:\n",
        "  - `NOUN`: Noun.\n",
        "  - `NN`: Singular noun.\n",
        "\n",
        "- **today NOUN NN**:\n",
        "  - `NOUN`: Noun.\n",
        "  - `NN`: Singular noun (in this case, \"today\" is tagged as a noun, though it might often be considered an adverb depending on context).\n"
      ],
      "metadata": {
        "id": "_ggD6oMVoyiw"
      }
    },
    {
      "cell_type": "markdown",
      "source": [
        "if you want additional detail or explanation about the fine-grained pos then you can use this attribute called spacy.explain('nn')"
      ],
      "metadata": {
        "id": "6_p7eNdPpLqo"
      }
    },
    {
      "cell_type": "code",
      "source": [
        "spacy.explain('NN')"
      ],
      "metadata": {
        "colab": {
          "base_uri": "https://localhost:8080/",
          "height": 35
        },
        "id": "3fbWv7lynnAB",
        "outputId": "92b01ef8-b36d-4ade-9e22-833548e3169b"
      },
      "execution_count": 29,
      "outputs": [
        {
          "output_type": "execute_result",
          "data": {
            "text/plain": [
              "'noun, singular or mass'"
            ],
            "application/vnd.google.colaboratory.intrinsic+json": {
              "type": "string"
            }
          },
          "metadata": {},
          "execution_count": 29
        }
      ]
    },
    {
      "cell_type": "code",
      "source": [
        "spacy.explain('AUX')"
      ],
      "metadata": {
        "colab": {
          "base_uri": "https://localhost:8080/",
          "height": 35
        },
        "id": "rMjFXr7npkKK",
        "outputId": "b9d4b406-9cce-4c41-9973-8b2d03d694a1"
      },
      "execution_count": 30,
      "outputs": [
        {
          "output_type": "execute_result",
          "data": {
            "text/plain": [
              "'auxiliary'"
            ],
            "application/vnd.google.colaboratory.intrinsic+json": {
              "type": "string"
            }
          },
          "metadata": {},
          "execution_count": 30
        }
      ]
    },
    {
      "cell_type": "markdown",
      "source": [
        "Concept of word disambiguation"
      ],
      "metadata": {
        "id": "6NnlqUtOzwKB"
      }
    },
    {
      "cell_type": "code",
      "source": [
        "sentence1 = nlp(\"I went to the bank to deposit some money.\")\n",
        "sentence2 = nlp(\"We sat by the river bank and had a picnic.\")\n",
        "\n",
        "# Print token and part of speech to give context\n",
        "for token in sentence1:\n",
        "    print(f\"{token.text}: {token.pos_} - {token.dep_}\")\n"
      ],
      "metadata": {
        "colab": {
          "base_uri": "https://localhost:8080/"
        },
        "id": "om6V0uoApqy5",
        "outputId": "7d13d963-253c-4896-cd3f-1f482c5ef053"
      },
      "execution_count": 32,
      "outputs": [
        {
          "output_type": "stream",
          "name": "stdout",
          "text": [
            "I: PRON - nsubj\n",
            "went: VERB - ROOT\n",
            "to: ADP - prep\n",
            "the: DET - det\n",
            "bank: NOUN - pobj\n",
            "to: PART - aux\n",
            "deposit: VERB - advcl\n",
            "some: DET - det\n",
            "money: NOUN - dobj\n",
            ".: PUNCT - punct\n"
          ]
        }
      ]
    },
    {
      "cell_type": "code",
      "source": [
        "for token in sentence2:\n",
        "    print(f\"{token.text}: {token.pos_} - {token.dep_}\")"
      ],
      "metadata": {
        "colab": {
          "base_uri": "https://localhost:8080/"
        },
        "id": "PgQGxfd2z8MW",
        "outputId": "6fca611a-3102-4081-8400-d64e399c2310"
      },
      "execution_count": 33,
      "outputs": [
        {
          "output_type": "stream",
          "name": "stdout",
          "text": [
            "We: PRON - nsubj\n",
            "sat: VERB - ROOT\n",
            "by: ADP - prep\n",
            "the: DET - det\n",
            "river: PROPN - compound\n",
            "bank: NOUN - pobj\n",
            "and: CCONJ - cc\n",
            "had: VERB - conj\n",
            "a: DET - det\n",
            "picnic: NOUN - dobj\n",
            ".: PUNCT - punct\n"
          ]
        }
      ]
    },
    {
      "cell_type": "code",
      "source": [
        "sentence3 = nlp(\"I left the room\")\n",
        "sentence4 = nlp(\"to the left of the room\")\n",
        "\n",
        "# Print token and part of speech to give context\n",
        "for token in sentence3:\n",
        "    print(f\"{token.text}: {token.pos_} - {token.dep_}\")"
      ],
      "metadata": {
        "colab": {
          "base_uri": "https://localhost:8080/"
        },
        "id": "BynVJRX5z9em",
        "outputId": "962ed9bb-31fa-4a34-bbab-4d0f0b12c991"
      },
      "execution_count": 34,
      "outputs": [
        {
          "output_type": "stream",
          "name": "stdout",
          "text": [
            "I: PRON - nsubj\n",
            "left: VERB - ROOT\n",
            "the: DET - det\n",
            "room: NOUN - dobj\n"
          ]
        }
      ]
    },
    {
      "cell_type": "code",
      "source": [
        "# Print token and part of speech to give context\n",
        "for token in sentence4:\n",
        "    print(f\"{token.text}: {token.pos_} - {token.dep_}\")"
      ],
      "metadata": {
        "colab": {
          "base_uri": "https://localhost:8080/"
        },
        "id": "-8CNb_dM0PLI",
        "outputId": "c839bf99-4eca-4494-ae21-dfdda7faf324"
      },
      "execution_count": 35,
      "outputs": [
        {
          "output_type": "stream",
          "name": "stdout",
          "text": [
            "to: ADP - ROOT\n",
            "the: DET - det\n",
            "left: NOUN - pobj\n",
            "of: ADP - prep\n",
            "the: DET - det\n",
            "room: NOUN - pobj\n"
          ]
        }
      ]
    },
    {
      "cell_type": "markdown",
      "source": [
        "Word Sense Disambiguation (WSD) is the task of determining the correct meaning (or sense) of a word based on its context. Many words have multiple meanings, and their sense depends on how they are used in a sentence.\n",
        "\n",
        "For example, consider the word \"bank\" which can mean:\n",
        "\n",
        "A financial institution.\n",
        "The side of a river.\n",
        "\n",
        "In Sentence 1, \"bank\" is identified as a noun (NOUN) and is the object of a preposition (pobj), and based on context (words like \"deposit\" and \"money\"), it clearly refers to a financial institution.\n",
        "In Sentence 2, \"bank\" is also identified as a noun, but this time it's modified by \"river\" (compound relationship), and the context suggests it refers to a physical location (the side of a river)."
      ],
      "metadata": {
        "id": "TwA_olnz1P3N"
      }
    },
    {
      "cell_type": "markdown",
      "source": [
        "What is .dep_?\n",
        ".dep_ is a way to tell us how a word (or token) in a sentence is connected to other words.\n",
        "It shows the relationship between words, like whether one word is the subject, the object, or describes another word.\n",
        "Think of it Like This:\n",
        "Imagine you have a group of friends talking about a trip:\n",
        "\n",
        "\"Sara (the subject) went (the action) to the beach (where she went).\"\n",
        "In this example:\n",
        "\n",
        "\"Sara\" is doing the action (the subject).\n",
        "\"went\" is the action (the verb).\n",
        "\"to the beach\" tells us where she went (this is a prepositional phrase).\n",
        "How .dep_ Works:\n",
        "\"Sara\" would have a .dep_ of \"nsubj\" (which means \"nominal subject\"—the one doing the action).\n",
        "\"went\" would have a .dep_ of \"ROOT\" (it’s the main action).\n",
        "\"to\" would have a .dep_ of \"prep\" (it’s a preposition that starts a phrase).\n",
        "\"beach\" would have a .dep_ of \"pobj\" (which means it’s the object of the preposition).\n",
        "Summary:\n",
        ".dep_ tells you how words in a sentence relate to each other.\n",
        "It helps you understand the sentence structure, like who is doing what and where."
      ],
      "metadata": {
        "id": "Q2dFSjpJ15A-"
      }
    },
    {
      "cell_type": "markdown",
      "source": [
        "Lets visulaize the pos for each word."
      ],
      "metadata": {
        "id": "ex7ygkvH2UDO"
      }
    },
    {
      "cell_type": "markdown",
      "source": [
        "**Displacy** is a visualization tool included with SpaCy that allows you to create visual representations of syntactic dependencies and named entities in text. It's particularly useful for understanding the structure of sentences or the relationships between words in a visually intuitive way.\n",
        "\n",
        "from spacy import displacy\n",
        "\n",
        "# Load the SpaCy model\n",
        "nlp = spacy.load(\"en_core_web_sm\")\n",
        "\n",
        "# Process a sentence\n",
        "doc = nlp(\"The quick brown fox jumps over the lazy dog.\")\n",
        "\n",
        "# Render the dependency parse in a Jupyter notebook\n",
        "displacy.render(doc, style='dep', jupyter=True)\n",
        "```\n",
        "\n",
        "#### Output\n",
        "When you run this code in a Jupyter notebook, you'll see a visual representation of the sentence with arrows showing the relationships between words. The main verb will typically be in the center, and the other words will connect to it according to their syntactic roles.\n",
        "\n",
        "### 3. Visualizing Named Entities\n",
        "\n",
        "You can also visualize named entities in text. Here’s how to do that:\n",
        "\n",
        "```python\n",
        "import spacy\n",
        "from spacy import displacy\n",
        "\n",
        "# Load the SpaCy model\n",
        "nlp = spacy.load(\"en_core_web_sm\")\n",
        "\n",
        "# Process a sentence with named entities\n",
        "doc = nlp(\"Apple is looking at buying a U.K. startup for $1 billion.\")\n",
        "\n",
        "# Render the named entities in a Jupyter notebook\n",
        "displacy.render(doc, style='ent', jupyter=True)\n",
        "```\n",
        "\n",
        "#### Output\n",
        "This will show you the entities (like \"Apple,\" \"U.K.,\" and \"$1 billion\") highlighted in different colors based on their type (e.g., organization, location, monetary value).\n",
        "\n",
        "### 4. Customizing Visualization\n",
        "\n",
        "You can customize the appearance of the visualization using CSS styles and other options. For example, you can specify color themes, adjust spacing, and more.\n",
        "\n",
        "### Summary\n",
        "\n",
        "- **Displacy** is a great tool for visualizing the structure of sentences and the relationships between words (dependency parsing) or identifying important entities (named entity recognition).\n",
        "- It's especially useful for understanding complex sentences and for educational purposes."
      ],
      "metadata": {
        "id": "Sgg9TTRk2tTo"
      }
    },
    {
      "cell_type": "code",
      "source": [
        "from spacy import displacy"
      ],
      "metadata": {
        "id": "YzH9Liec0T1P"
      },
      "execution_count": 36,
      "outputs": []
    },
    {
      "cell_type": "code",
      "source": [
        "doc6 = nlp(\"I like Apple as an organization, it is located in U.K and it earns more than $1 billion\")"
      ],
      "metadata": {
        "id": "Dem8FF4h3AsG"
      },
      "execution_count": 39,
      "outputs": []
    },
    {
      "cell_type": "code",
      "source": [
        "displacy.render(doc6, style='ent', jupyter=True)"
      ],
      "metadata": {
        "colab": {
          "base_uri": "https://localhost:8080/",
          "height": 52
        },
        "id": "VjnZXMb43L3O",
        "outputId": "c44daa57-5d9d-492f-f1f4-27bfb34e0d19"
      },
      "execution_count": 40,
      "outputs": [
        {
          "output_type": "display_data",
          "data": {
            "text/plain": [
              "<IPython.core.display.HTML object>"
            ],
            "text/html": [
              "<span class=\"tex2jax_ignore\"><div class=\"entities\" style=\"line-height: 2.5; direction: ltr\">I like \n",
              "<mark class=\"entity\" style=\"background: #7aecec; padding: 0.45em 0.6em; margin: 0 0.25em; line-height: 1; border-radius: 0.35em;\">\n",
              "    Apple\n",
              "    <span style=\"font-size: 0.8em; font-weight: bold; line-height: 1; border-radius: 0.35em; vertical-align: middle; margin-left: 0.5rem\">ORG</span>\n",
              "</mark>\n",
              " as an organization, it is located in \n",
              "<mark class=\"entity\" style=\"background: #feca74; padding: 0.45em 0.6em; margin: 0 0.25em; line-height: 1; border-radius: 0.35em;\">\n",
              "    U.K\n",
              "    <span style=\"font-size: 0.8em; font-weight: bold; line-height: 1; border-radius: 0.35em; vertical-align: middle; margin-left: 0.5rem\">GPE</span>\n",
              "</mark>\n",
              " and it earns \n",
              "<mark class=\"entity\" style=\"background: #e4e7d2; padding: 0.45em 0.6em; margin: 0 0.25em; line-height: 1; border-radius: 0.35em;\">\n",
              "    more than $1 billion\n",
              "    <span style=\"font-size: 0.8em; font-weight: bold; line-height: 1; border-radius: 0.35em; vertical-align: middle; margin-left: 0.5rem\">MONEY</span>\n",
              "</mark>\n",
              "</div></span>"
            ]
          },
          "metadata": {}
        }
      ]
    },
    {
      "cell_type": "code",
      "source": [
        "displacy.render(doc6, style='dep', jupyter=True)"
      ],
      "metadata": {
        "colab": {
          "base_uri": "https://localhost:8080/",
          "height": 616
        },
        "id": "TribKBay3YKt",
        "outputId": "7806e9c4-f8ca-4722-acf7-2be5f1fd66b2"
      },
      "execution_count": 41,
      "outputs": [
        {
          "output_type": "display_data",
          "data": {
            "text/plain": [
              "<IPython.core.display.HTML object>"
            ],
            "text/html": [
              "<span class=\"tex2jax_ignore\"><svg xmlns=\"http://www.w3.org/2000/svg\" xmlns:xlink=\"http://www.w3.org/1999/xlink\" xml:lang=\"en\" id=\"2c21e36b38134dafac4a652699ac5a75-0\" class=\"displacy\" width=\"3375\" height=\"574.5\" direction=\"ltr\" style=\"max-width: none; height: 574.5px; color: #000000; background: #ffffff; font-family: Arial; direction: ltr\">\n",
              "<text class=\"displacy-token\" fill=\"currentColor\" text-anchor=\"middle\" y=\"484.5\">\n",
              "    <tspan class=\"displacy-word\" fill=\"currentColor\" x=\"50\">I</tspan>\n",
              "    <tspan class=\"displacy-tag\" dy=\"2em\" fill=\"currentColor\" x=\"50\">PRON</tspan>\n",
              "</text>\n",
              "\n",
              "<text class=\"displacy-token\" fill=\"currentColor\" text-anchor=\"middle\" y=\"484.5\">\n",
              "    <tspan class=\"displacy-word\" fill=\"currentColor\" x=\"225\">like</tspan>\n",
              "    <tspan class=\"displacy-tag\" dy=\"2em\" fill=\"currentColor\" x=\"225\">VERB</tspan>\n",
              "</text>\n",
              "\n",
              "<text class=\"displacy-token\" fill=\"currentColor\" text-anchor=\"middle\" y=\"484.5\">\n",
              "    <tspan class=\"displacy-word\" fill=\"currentColor\" x=\"400\">Apple</tspan>\n",
              "    <tspan class=\"displacy-tag\" dy=\"2em\" fill=\"currentColor\" x=\"400\">PROPN</tspan>\n",
              "</text>\n",
              "\n",
              "<text class=\"displacy-token\" fill=\"currentColor\" text-anchor=\"middle\" y=\"484.5\">\n",
              "    <tspan class=\"displacy-word\" fill=\"currentColor\" x=\"575\">as</tspan>\n",
              "    <tspan class=\"displacy-tag\" dy=\"2em\" fill=\"currentColor\" x=\"575\">ADP</tspan>\n",
              "</text>\n",
              "\n",
              "<text class=\"displacy-token\" fill=\"currentColor\" text-anchor=\"middle\" y=\"484.5\">\n",
              "    <tspan class=\"displacy-word\" fill=\"currentColor\" x=\"750\">an</tspan>\n",
              "    <tspan class=\"displacy-tag\" dy=\"2em\" fill=\"currentColor\" x=\"750\">DET</tspan>\n",
              "</text>\n",
              "\n",
              "<text class=\"displacy-token\" fill=\"currentColor\" text-anchor=\"middle\" y=\"484.5\">\n",
              "    <tspan class=\"displacy-word\" fill=\"currentColor\" x=\"925\">organization,</tspan>\n",
              "    <tspan class=\"displacy-tag\" dy=\"2em\" fill=\"currentColor\" x=\"925\">NOUN</tspan>\n",
              "</text>\n",
              "\n",
              "<text class=\"displacy-token\" fill=\"currentColor\" text-anchor=\"middle\" y=\"484.5\">\n",
              "    <tspan class=\"displacy-word\" fill=\"currentColor\" x=\"1100\">it</tspan>\n",
              "    <tspan class=\"displacy-tag\" dy=\"2em\" fill=\"currentColor\" x=\"1100\">PRON</tspan>\n",
              "</text>\n",
              "\n",
              "<text class=\"displacy-token\" fill=\"currentColor\" text-anchor=\"middle\" y=\"484.5\">\n",
              "    <tspan class=\"displacy-word\" fill=\"currentColor\" x=\"1275\">is</tspan>\n",
              "    <tspan class=\"displacy-tag\" dy=\"2em\" fill=\"currentColor\" x=\"1275\">AUX</tspan>\n",
              "</text>\n",
              "\n",
              "<text class=\"displacy-token\" fill=\"currentColor\" text-anchor=\"middle\" y=\"484.5\">\n",
              "    <tspan class=\"displacy-word\" fill=\"currentColor\" x=\"1450\">located</tspan>\n",
              "    <tspan class=\"displacy-tag\" dy=\"2em\" fill=\"currentColor\" x=\"1450\">VERB</tspan>\n",
              "</text>\n",
              "\n",
              "<text class=\"displacy-token\" fill=\"currentColor\" text-anchor=\"middle\" y=\"484.5\">\n",
              "    <tspan class=\"displacy-word\" fill=\"currentColor\" x=\"1625\">in</tspan>\n",
              "    <tspan class=\"displacy-tag\" dy=\"2em\" fill=\"currentColor\" x=\"1625\">ADP</tspan>\n",
              "</text>\n",
              "\n",
              "<text class=\"displacy-token\" fill=\"currentColor\" text-anchor=\"middle\" y=\"484.5\">\n",
              "    <tspan class=\"displacy-word\" fill=\"currentColor\" x=\"1800\">U.K</tspan>\n",
              "    <tspan class=\"displacy-tag\" dy=\"2em\" fill=\"currentColor\" x=\"1800\">PROPN</tspan>\n",
              "</text>\n",
              "\n",
              "<text class=\"displacy-token\" fill=\"currentColor\" text-anchor=\"middle\" y=\"484.5\">\n",
              "    <tspan class=\"displacy-word\" fill=\"currentColor\" x=\"1975\">and</tspan>\n",
              "    <tspan class=\"displacy-tag\" dy=\"2em\" fill=\"currentColor\" x=\"1975\">CCONJ</tspan>\n",
              "</text>\n",
              "\n",
              "<text class=\"displacy-token\" fill=\"currentColor\" text-anchor=\"middle\" y=\"484.5\">\n",
              "    <tspan class=\"displacy-word\" fill=\"currentColor\" x=\"2150\">it</tspan>\n",
              "    <tspan class=\"displacy-tag\" dy=\"2em\" fill=\"currentColor\" x=\"2150\">PRON</tspan>\n",
              "</text>\n",
              "\n",
              "<text class=\"displacy-token\" fill=\"currentColor\" text-anchor=\"middle\" y=\"484.5\">\n",
              "    <tspan class=\"displacy-word\" fill=\"currentColor\" x=\"2325\">earns</tspan>\n",
              "    <tspan class=\"displacy-tag\" dy=\"2em\" fill=\"currentColor\" x=\"2325\">VERB</tspan>\n",
              "</text>\n",
              "\n",
              "<text class=\"displacy-token\" fill=\"currentColor\" text-anchor=\"middle\" y=\"484.5\">\n",
              "    <tspan class=\"displacy-word\" fill=\"currentColor\" x=\"2500\">more</tspan>\n",
              "    <tspan class=\"displacy-tag\" dy=\"2em\" fill=\"currentColor\" x=\"2500\">ADJ</tspan>\n",
              "</text>\n",
              "\n",
              "<text class=\"displacy-token\" fill=\"currentColor\" text-anchor=\"middle\" y=\"484.5\">\n",
              "    <tspan class=\"displacy-word\" fill=\"currentColor\" x=\"2675\">than</tspan>\n",
              "    <tspan class=\"displacy-tag\" dy=\"2em\" fill=\"currentColor\" x=\"2675\">ADP</tspan>\n",
              "</text>\n",
              "\n",
              "<text class=\"displacy-token\" fill=\"currentColor\" text-anchor=\"middle\" y=\"484.5\">\n",
              "    <tspan class=\"displacy-word\" fill=\"currentColor\" x=\"2850\">$</tspan>\n",
              "    <tspan class=\"displacy-tag\" dy=\"2em\" fill=\"currentColor\" x=\"2850\">SYM</tspan>\n",
              "</text>\n",
              "\n",
              "<text class=\"displacy-token\" fill=\"currentColor\" text-anchor=\"middle\" y=\"484.5\">\n",
              "    <tspan class=\"displacy-word\" fill=\"currentColor\" x=\"3025\">1</tspan>\n",
              "    <tspan class=\"displacy-tag\" dy=\"2em\" fill=\"currentColor\" x=\"3025\">NUM</tspan>\n",
              "</text>\n",
              "\n",
              "<text class=\"displacy-token\" fill=\"currentColor\" text-anchor=\"middle\" y=\"484.5\">\n",
              "    <tspan class=\"displacy-word\" fill=\"currentColor\" x=\"3200\">billion</tspan>\n",
              "    <tspan class=\"displacy-tag\" dy=\"2em\" fill=\"currentColor\" x=\"3200\">NUM</tspan>\n",
              "</text>\n",
              "\n",
              "<g class=\"displacy-arrow\">\n",
              "    <path class=\"displacy-arc\" id=\"arrow-2c21e36b38134dafac4a652699ac5a75-0-0\" stroke-width=\"2px\" d=\"M70,439.5 C70,352.0 205.0,352.0 205.0,439.5\" fill=\"none\" stroke=\"currentColor\"/>\n",
              "    <text dy=\"1.25em\" style=\"font-size: 0.8em; letter-spacing: 1px\">\n",
              "        <textPath xlink:href=\"#arrow-2c21e36b38134dafac4a652699ac5a75-0-0\" class=\"displacy-label\" startOffset=\"50%\" side=\"left\" fill=\"currentColor\" text-anchor=\"middle\">nsubj</textPath>\n",
              "    </text>\n",
              "    <path class=\"displacy-arrowhead\" d=\"M70,441.5 L62,429.5 78,429.5\" fill=\"currentColor\"/>\n",
              "</g>\n",
              "\n",
              "<g class=\"displacy-arrow\">\n",
              "    <path class=\"displacy-arc\" id=\"arrow-2c21e36b38134dafac4a652699ac5a75-0-1\" stroke-width=\"2px\" d=\"M245,439.5 C245,177.0 1440.0,177.0 1440.0,439.5\" fill=\"none\" stroke=\"currentColor\"/>\n",
              "    <text dy=\"1.25em\" style=\"font-size: 0.8em; letter-spacing: 1px\">\n",
              "        <textPath xlink:href=\"#arrow-2c21e36b38134dafac4a652699ac5a75-0-1\" class=\"displacy-label\" startOffset=\"50%\" side=\"left\" fill=\"currentColor\" text-anchor=\"middle\">ccomp</textPath>\n",
              "    </text>\n",
              "    <path class=\"displacy-arrowhead\" d=\"M245,441.5 L237,429.5 253,429.5\" fill=\"currentColor\"/>\n",
              "</g>\n",
              "\n",
              "<g class=\"displacy-arrow\">\n",
              "    <path class=\"displacy-arc\" id=\"arrow-2c21e36b38134dafac4a652699ac5a75-0-2\" stroke-width=\"2px\" d=\"M245,439.5 C245,352.0 380.0,352.0 380.0,439.5\" fill=\"none\" stroke=\"currentColor\"/>\n",
              "    <text dy=\"1.25em\" style=\"font-size: 0.8em; letter-spacing: 1px\">\n",
              "        <textPath xlink:href=\"#arrow-2c21e36b38134dafac4a652699ac5a75-0-2\" class=\"displacy-label\" startOffset=\"50%\" side=\"left\" fill=\"currentColor\" text-anchor=\"middle\">dobj</textPath>\n",
              "    </text>\n",
              "    <path class=\"displacy-arrowhead\" d=\"M380.0,441.5 L388.0,429.5 372.0,429.5\" fill=\"currentColor\"/>\n",
              "</g>\n",
              "\n",
              "<g class=\"displacy-arrow\">\n",
              "    <path class=\"displacy-arc\" id=\"arrow-2c21e36b38134dafac4a652699ac5a75-0-3\" stroke-width=\"2px\" d=\"M245,439.5 C245,264.5 560.0,264.5 560.0,439.5\" fill=\"none\" stroke=\"currentColor\"/>\n",
              "    <text dy=\"1.25em\" style=\"font-size: 0.8em; letter-spacing: 1px\">\n",
              "        <textPath xlink:href=\"#arrow-2c21e36b38134dafac4a652699ac5a75-0-3\" class=\"displacy-label\" startOffset=\"50%\" side=\"left\" fill=\"currentColor\" text-anchor=\"middle\">prep</textPath>\n",
              "    </text>\n",
              "    <path class=\"displacy-arrowhead\" d=\"M560.0,441.5 L568.0,429.5 552.0,429.5\" fill=\"currentColor\"/>\n",
              "</g>\n",
              "\n",
              "<g class=\"displacy-arrow\">\n",
              "    <path class=\"displacy-arc\" id=\"arrow-2c21e36b38134dafac4a652699ac5a75-0-4\" stroke-width=\"2px\" d=\"M770,439.5 C770,352.0 905.0,352.0 905.0,439.5\" fill=\"none\" stroke=\"currentColor\"/>\n",
              "    <text dy=\"1.25em\" style=\"font-size: 0.8em; letter-spacing: 1px\">\n",
              "        <textPath xlink:href=\"#arrow-2c21e36b38134dafac4a652699ac5a75-0-4\" class=\"displacy-label\" startOffset=\"50%\" side=\"left\" fill=\"currentColor\" text-anchor=\"middle\">det</textPath>\n",
              "    </text>\n",
              "    <path class=\"displacy-arrowhead\" d=\"M770,441.5 L762,429.5 778,429.5\" fill=\"currentColor\"/>\n",
              "</g>\n",
              "\n",
              "<g class=\"displacy-arrow\">\n",
              "    <path class=\"displacy-arc\" id=\"arrow-2c21e36b38134dafac4a652699ac5a75-0-5\" stroke-width=\"2px\" d=\"M595,439.5 C595,264.5 910.0,264.5 910.0,439.5\" fill=\"none\" stroke=\"currentColor\"/>\n",
              "    <text dy=\"1.25em\" style=\"font-size: 0.8em; letter-spacing: 1px\">\n",
              "        <textPath xlink:href=\"#arrow-2c21e36b38134dafac4a652699ac5a75-0-5\" class=\"displacy-label\" startOffset=\"50%\" side=\"left\" fill=\"currentColor\" text-anchor=\"middle\">pobj</textPath>\n",
              "    </text>\n",
              "    <path class=\"displacy-arrowhead\" d=\"M910.0,441.5 L918.0,429.5 902.0,429.5\" fill=\"currentColor\"/>\n",
              "</g>\n",
              "\n",
              "<g class=\"displacy-arrow\">\n",
              "    <path class=\"displacy-arc\" id=\"arrow-2c21e36b38134dafac4a652699ac5a75-0-6\" stroke-width=\"2px\" d=\"M1120,439.5 C1120,264.5 1435.0,264.5 1435.0,439.5\" fill=\"none\" stroke=\"currentColor\"/>\n",
              "    <text dy=\"1.25em\" style=\"font-size: 0.8em; letter-spacing: 1px\">\n",
              "        <textPath xlink:href=\"#arrow-2c21e36b38134dafac4a652699ac5a75-0-6\" class=\"displacy-label\" startOffset=\"50%\" side=\"left\" fill=\"currentColor\" text-anchor=\"middle\">nsubjpass</textPath>\n",
              "    </text>\n",
              "    <path class=\"displacy-arrowhead\" d=\"M1120,441.5 L1112,429.5 1128,429.5\" fill=\"currentColor\"/>\n",
              "</g>\n",
              "\n",
              "<g class=\"displacy-arrow\">\n",
              "    <path class=\"displacy-arc\" id=\"arrow-2c21e36b38134dafac4a652699ac5a75-0-7\" stroke-width=\"2px\" d=\"M1295,439.5 C1295,352.0 1430.0,352.0 1430.0,439.5\" fill=\"none\" stroke=\"currentColor\"/>\n",
              "    <text dy=\"1.25em\" style=\"font-size: 0.8em; letter-spacing: 1px\">\n",
              "        <textPath xlink:href=\"#arrow-2c21e36b38134dafac4a652699ac5a75-0-7\" class=\"displacy-label\" startOffset=\"50%\" side=\"left\" fill=\"currentColor\" text-anchor=\"middle\">auxpass</textPath>\n",
              "    </text>\n",
              "    <path class=\"displacy-arrowhead\" d=\"M1295,441.5 L1287,429.5 1303,429.5\" fill=\"currentColor\"/>\n",
              "</g>\n",
              "\n",
              "<g class=\"displacy-arrow\">\n",
              "    <path class=\"displacy-arc\" id=\"arrow-2c21e36b38134dafac4a652699ac5a75-0-8\" stroke-width=\"2px\" d=\"M1470,439.5 C1470,352.0 1605.0,352.0 1605.0,439.5\" fill=\"none\" stroke=\"currentColor\"/>\n",
              "    <text dy=\"1.25em\" style=\"font-size: 0.8em; letter-spacing: 1px\">\n",
              "        <textPath xlink:href=\"#arrow-2c21e36b38134dafac4a652699ac5a75-0-8\" class=\"displacy-label\" startOffset=\"50%\" side=\"left\" fill=\"currentColor\" text-anchor=\"middle\">prep</textPath>\n",
              "    </text>\n",
              "    <path class=\"displacy-arrowhead\" d=\"M1605.0,441.5 L1613.0,429.5 1597.0,429.5\" fill=\"currentColor\"/>\n",
              "</g>\n",
              "\n",
              "<g class=\"displacy-arrow\">\n",
              "    <path class=\"displacy-arc\" id=\"arrow-2c21e36b38134dafac4a652699ac5a75-0-9\" stroke-width=\"2px\" d=\"M1645,439.5 C1645,352.0 1780.0,352.0 1780.0,439.5\" fill=\"none\" stroke=\"currentColor\"/>\n",
              "    <text dy=\"1.25em\" style=\"font-size: 0.8em; letter-spacing: 1px\">\n",
              "        <textPath xlink:href=\"#arrow-2c21e36b38134dafac4a652699ac5a75-0-9\" class=\"displacy-label\" startOffset=\"50%\" side=\"left\" fill=\"currentColor\" text-anchor=\"middle\">pobj</textPath>\n",
              "    </text>\n",
              "    <path class=\"displacy-arrowhead\" d=\"M1780.0,441.5 L1788.0,429.5 1772.0,429.5\" fill=\"currentColor\"/>\n",
              "</g>\n",
              "\n",
              "<g class=\"displacy-arrow\">\n",
              "    <path class=\"displacy-arc\" id=\"arrow-2c21e36b38134dafac4a652699ac5a75-0-10\" stroke-width=\"2px\" d=\"M1470,439.5 C1470,264.5 1960.0,264.5 1960.0,439.5\" fill=\"none\" stroke=\"currentColor\"/>\n",
              "    <text dy=\"1.25em\" style=\"font-size: 0.8em; letter-spacing: 1px\">\n",
              "        <textPath xlink:href=\"#arrow-2c21e36b38134dafac4a652699ac5a75-0-10\" class=\"displacy-label\" startOffset=\"50%\" side=\"left\" fill=\"currentColor\" text-anchor=\"middle\">cc</textPath>\n",
              "    </text>\n",
              "    <path class=\"displacy-arrowhead\" d=\"M1960.0,441.5 L1968.0,429.5 1952.0,429.5\" fill=\"currentColor\"/>\n",
              "</g>\n",
              "\n",
              "<g class=\"displacy-arrow\">\n",
              "    <path class=\"displacy-arc\" id=\"arrow-2c21e36b38134dafac4a652699ac5a75-0-11\" stroke-width=\"2px\" d=\"M2170,439.5 C2170,352.0 2305.0,352.0 2305.0,439.5\" fill=\"none\" stroke=\"currentColor\"/>\n",
              "    <text dy=\"1.25em\" style=\"font-size: 0.8em; letter-spacing: 1px\">\n",
              "        <textPath xlink:href=\"#arrow-2c21e36b38134dafac4a652699ac5a75-0-11\" class=\"displacy-label\" startOffset=\"50%\" side=\"left\" fill=\"currentColor\" text-anchor=\"middle\">nsubj</textPath>\n",
              "    </text>\n",
              "    <path class=\"displacy-arrowhead\" d=\"M2170,441.5 L2162,429.5 2178,429.5\" fill=\"currentColor\"/>\n",
              "</g>\n",
              "\n",
              "<g class=\"displacy-arrow\">\n",
              "    <path class=\"displacy-arc\" id=\"arrow-2c21e36b38134dafac4a652699ac5a75-0-12\" stroke-width=\"2px\" d=\"M1470,439.5 C1470,177.0 2315.0,177.0 2315.0,439.5\" fill=\"none\" stroke=\"currentColor\"/>\n",
              "    <text dy=\"1.25em\" style=\"font-size: 0.8em; letter-spacing: 1px\">\n",
              "        <textPath xlink:href=\"#arrow-2c21e36b38134dafac4a652699ac5a75-0-12\" class=\"displacy-label\" startOffset=\"50%\" side=\"left\" fill=\"currentColor\" text-anchor=\"middle\">conj</textPath>\n",
              "    </text>\n",
              "    <path class=\"displacy-arrowhead\" d=\"M2315.0,441.5 L2323.0,429.5 2307.0,429.5\" fill=\"currentColor\"/>\n",
              "</g>\n",
              "\n",
              "<g class=\"displacy-arrow\">\n",
              "    <path class=\"displacy-arc\" id=\"arrow-2c21e36b38134dafac4a652699ac5a75-0-13\" stroke-width=\"2px\" d=\"M2520,439.5 C2520,89.5 3195.0,89.5 3195.0,439.5\" fill=\"none\" stroke=\"currentColor\"/>\n",
              "    <text dy=\"1.25em\" style=\"font-size: 0.8em; letter-spacing: 1px\">\n",
              "        <textPath xlink:href=\"#arrow-2c21e36b38134dafac4a652699ac5a75-0-13\" class=\"displacy-label\" startOffset=\"50%\" side=\"left\" fill=\"currentColor\" text-anchor=\"middle\">amod</textPath>\n",
              "    </text>\n",
              "    <path class=\"displacy-arrowhead\" d=\"M2520,441.5 L2512,429.5 2528,429.5\" fill=\"currentColor\"/>\n",
              "</g>\n",
              "\n",
              "<g class=\"displacy-arrow\">\n",
              "    <path class=\"displacy-arc\" id=\"arrow-2c21e36b38134dafac4a652699ac5a75-0-14\" stroke-width=\"2px\" d=\"M2695,439.5 C2695,177.0 3190.0,177.0 3190.0,439.5\" fill=\"none\" stroke=\"currentColor\"/>\n",
              "    <text dy=\"1.25em\" style=\"font-size: 0.8em; letter-spacing: 1px\">\n",
              "        <textPath xlink:href=\"#arrow-2c21e36b38134dafac4a652699ac5a75-0-14\" class=\"displacy-label\" startOffset=\"50%\" side=\"left\" fill=\"currentColor\" text-anchor=\"middle\">quantmod</textPath>\n",
              "    </text>\n",
              "    <path class=\"displacy-arrowhead\" d=\"M2695,441.5 L2687,429.5 2703,429.5\" fill=\"currentColor\"/>\n",
              "</g>\n",
              "\n",
              "<g class=\"displacy-arrow\">\n",
              "    <path class=\"displacy-arc\" id=\"arrow-2c21e36b38134dafac4a652699ac5a75-0-15\" stroke-width=\"2px\" d=\"M2870,439.5 C2870,264.5 3185.0,264.5 3185.0,439.5\" fill=\"none\" stroke=\"currentColor\"/>\n",
              "    <text dy=\"1.25em\" style=\"font-size: 0.8em; letter-spacing: 1px\">\n",
              "        <textPath xlink:href=\"#arrow-2c21e36b38134dafac4a652699ac5a75-0-15\" class=\"displacy-label\" startOffset=\"50%\" side=\"left\" fill=\"currentColor\" text-anchor=\"middle\">quantmod</textPath>\n",
              "    </text>\n",
              "    <path class=\"displacy-arrowhead\" d=\"M2870,441.5 L2862,429.5 2878,429.5\" fill=\"currentColor\"/>\n",
              "</g>\n",
              "\n",
              "<g class=\"displacy-arrow\">\n",
              "    <path class=\"displacy-arc\" id=\"arrow-2c21e36b38134dafac4a652699ac5a75-0-16\" stroke-width=\"2px\" d=\"M3045,439.5 C3045,352.0 3180.0,352.0 3180.0,439.5\" fill=\"none\" stroke=\"currentColor\"/>\n",
              "    <text dy=\"1.25em\" style=\"font-size: 0.8em; letter-spacing: 1px\">\n",
              "        <textPath xlink:href=\"#arrow-2c21e36b38134dafac4a652699ac5a75-0-16\" class=\"displacy-label\" startOffset=\"50%\" side=\"left\" fill=\"currentColor\" text-anchor=\"middle\">compound</textPath>\n",
              "    </text>\n",
              "    <path class=\"displacy-arrowhead\" d=\"M3045,441.5 L3037,429.5 3053,429.5\" fill=\"currentColor\"/>\n",
              "</g>\n",
              "\n",
              "<g class=\"displacy-arrow\">\n",
              "    <path class=\"displacy-arc\" id=\"arrow-2c21e36b38134dafac4a652699ac5a75-0-17\" stroke-width=\"2px\" d=\"M2345,439.5 C2345,2.0 3200.0,2.0 3200.0,439.5\" fill=\"none\" stroke=\"currentColor\"/>\n",
              "    <text dy=\"1.25em\" style=\"font-size: 0.8em; letter-spacing: 1px\">\n",
              "        <textPath xlink:href=\"#arrow-2c21e36b38134dafac4a652699ac5a75-0-17\" class=\"displacy-label\" startOffset=\"50%\" side=\"left\" fill=\"currentColor\" text-anchor=\"middle\">dobj</textPath>\n",
              "    </text>\n",
              "    <path class=\"displacy-arrowhead\" d=\"M3200.0,441.5 L3208.0,429.5 3192.0,429.5\" fill=\"currentColor\"/>\n",
              "</g>\n",
              "</svg></span>"
            ]
          },
          "metadata": {}
        }
      ]
    },
    {
      "cell_type": "code",
      "source": [
        "options = {\n",
        "    \"compact\": True,  # Makes the visualization more compact\n",
        "    \"bg\": \"#80ced6\",  # Background color\n",
        "    \"color\": \"blue\",  # Color of the arrows and text\n",
        "    \"distance\": 80    # Distance between words\n",
        "}"
      ],
      "metadata": {
        "id": "XIGFw8VH33cF"
      },
      "execution_count": 46,
      "outputs": []
    },
    {
      "cell_type": "code",
      "source": [
        "displacy.render(doc6, style='dep', jupyter=True, options=options)"
      ],
      "metadata": {
        "colab": {
          "base_uri": "https://localhost:8080/",
          "height": 378
        },
        "id": "AmbTkCpR4NGN",
        "outputId": "4342bdf7-ec93-4731-deb9-eeb9dca9c7ff"
      },
      "execution_count": 47,
      "outputs": [
        {
          "output_type": "display_data",
          "data": {
            "text/plain": [
              "<IPython.core.display.HTML object>"
            ],
            "text/html": [
              "<span class=\"tex2jax_ignore\"><svg xmlns=\"http://www.w3.org/2000/svg\" xmlns:xlink=\"http://www.w3.org/1999/xlink\" xml:lang=\"en\" id=\"4436ce45d5314786b3093c68de3293a4-0\" class=\"displacy\" width=\"1570\" height=\"337.0\" direction=\"ltr\" style=\"max-width: none; height: 337.0px; color: blue; background: #80ced6; font-family: Arial; direction: ltr\">\n",
              "<text class=\"displacy-token\" fill=\"currentColor\" text-anchor=\"middle\" y=\"247.0\">\n",
              "    <tspan class=\"displacy-word\" fill=\"currentColor\" x=\"50\">I</tspan>\n",
              "    <tspan class=\"displacy-tag\" dy=\"2em\" fill=\"currentColor\" x=\"50\">PRON</tspan>\n",
              "</text>\n",
              "\n",
              "<text class=\"displacy-token\" fill=\"currentColor\" text-anchor=\"middle\" y=\"247.0\">\n",
              "    <tspan class=\"displacy-word\" fill=\"currentColor\" x=\"130\">like</tspan>\n",
              "    <tspan class=\"displacy-tag\" dy=\"2em\" fill=\"currentColor\" x=\"130\">VERB</tspan>\n",
              "</text>\n",
              "\n",
              "<text class=\"displacy-token\" fill=\"currentColor\" text-anchor=\"middle\" y=\"247.0\">\n",
              "    <tspan class=\"displacy-word\" fill=\"currentColor\" x=\"210\">Apple</tspan>\n",
              "    <tspan class=\"displacy-tag\" dy=\"2em\" fill=\"currentColor\" x=\"210\">PROPN</tspan>\n",
              "</text>\n",
              "\n",
              "<text class=\"displacy-token\" fill=\"currentColor\" text-anchor=\"middle\" y=\"247.0\">\n",
              "    <tspan class=\"displacy-word\" fill=\"currentColor\" x=\"290\">as</tspan>\n",
              "    <tspan class=\"displacy-tag\" dy=\"2em\" fill=\"currentColor\" x=\"290\">ADP</tspan>\n",
              "</text>\n",
              "\n",
              "<text class=\"displacy-token\" fill=\"currentColor\" text-anchor=\"middle\" y=\"247.0\">\n",
              "    <tspan class=\"displacy-word\" fill=\"currentColor\" x=\"370\">an</tspan>\n",
              "    <tspan class=\"displacy-tag\" dy=\"2em\" fill=\"currentColor\" x=\"370\">DET</tspan>\n",
              "</text>\n",
              "\n",
              "<text class=\"displacy-token\" fill=\"currentColor\" text-anchor=\"middle\" y=\"247.0\">\n",
              "    <tspan class=\"displacy-word\" fill=\"currentColor\" x=\"450\">organization,</tspan>\n",
              "    <tspan class=\"displacy-tag\" dy=\"2em\" fill=\"currentColor\" x=\"450\">NOUN</tspan>\n",
              "</text>\n",
              "\n",
              "<text class=\"displacy-token\" fill=\"currentColor\" text-anchor=\"middle\" y=\"247.0\">\n",
              "    <tspan class=\"displacy-word\" fill=\"currentColor\" x=\"530\">it</tspan>\n",
              "    <tspan class=\"displacy-tag\" dy=\"2em\" fill=\"currentColor\" x=\"530\">PRON</tspan>\n",
              "</text>\n",
              "\n",
              "<text class=\"displacy-token\" fill=\"currentColor\" text-anchor=\"middle\" y=\"247.0\">\n",
              "    <tspan class=\"displacy-word\" fill=\"currentColor\" x=\"610\">is</tspan>\n",
              "    <tspan class=\"displacy-tag\" dy=\"2em\" fill=\"currentColor\" x=\"610\">AUX</tspan>\n",
              "</text>\n",
              "\n",
              "<text class=\"displacy-token\" fill=\"currentColor\" text-anchor=\"middle\" y=\"247.0\">\n",
              "    <tspan class=\"displacy-word\" fill=\"currentColor\" x=\"690\">located</tspan>\n",
              "    <tspan class=\"displacy-tag\" dy=\"2em\" fill=\"currentColor\" x=\"690\">VERB</tspan>\n",
              "</text>\n",
              "\n",
              "<text class=\"displacy-token\" fill=\"currentColor\" text-anchor=\"middle\" y=\"247.0\">\n",
              "    <tspan class=\"displacy-word\" fill=\"currentColor\" x=\"770\">in</tspan>\n",
              "    <tspan class=\"displacy-tag\" dy=\"2em\" fill=\"currentColor\" x=\"770\">ADP</tspan>\n",
              "</text>\n",
              "\n",
              "<text class=\"displacy-token\" fill=\"currentColor\" text-anchor=\"middle\" y=\"247.0\">\n",
              "    <tspan class=\"displacy-word\" fill=\"currentColor\" x=\"850\">U.K</tspan>\n",
              "    <tspan class=\"displacy-tag\" dy=\"2em\" fill=\"currentColor\" x=\"850\">PROPN</tspan>\n",
              "</text>\n",
              "\n",
              "<text class=\"displacy-token\" fill=\"currentColor\" text-anchor=\"middle\" y=\"247.0\">\n",
              "    <tspan class=\"displacy-word\" fill=\"currentColor\" x=\"930\">and</tspan>\n",
              "    <tspan class=\"displacy-tag\" dy=\"2em\" fill=\"currentColor\" x=\"930\">CCONJ</tspan>\n",
              "</text>\n",
              "\n",
              "<text class=\"displacy-token\" fill=\"currentColor\" text-anchor=\"middle\" y=\"247.0\">\n",
              "    <tspan class=\"displacy-word\" fill=\"currentColor\" x=\"1010\">it</tspan>\n",
              "    <tspan class=\"displacy-tag\" dy=\"2em\" fill=\"currentColor\" x=\"1010\">PRON</tspan>\n",
              "</text>\n",
              "\n",
              "<text class=\"displacy-token\" fill=\"currentColor\" text-anchor=\"middle\" y=\"247.0\">\n",
              "    <tspan class=\"displacy-word\" fill=\"currentColor\" x=\"1090\">earns</tspan>\n",
              "    <tspan class=\"displacy-tag\" dy=\"2em\" fill=\"currentColor\" x=\"1090\">VERB</tspan>\n",
              "</text>\n",
              "\n",
              "<text class=\"displacy-token\" fill=\"currentColor\" text-anchor=\"middle\" y=\"247.0\">\n",
              "    <tspan class=\"displacy-word\" fill=\"currentColor\" x=\"1170\">more</tspan>\n",
              "    <tspan class=\"displacy-tag\" dy=\"2em\" fill=\"currentColor\" x=\"1170\">ADJ</tspan>\n",
              "</text>\n",
              "\n",
              "<text class=\"displacy-token\" fill=\"currentColor\" text-anchor=\"middle\" y=\"247.0\">\n",
              "    <tspan class=\"displacy-word\" fill=\"currentColor\" x=\"1250\">than</tspan>\n",
              "    <tspan class=\"displacy-tag\" dy=\"2em\" fill=\"currentColor\" x=\"1250\">ADP</tspan>\n",
              "</text>\n",
              "\n",
              "<text class=\"displacy-token\" fill=\"currentColor\" text-anchor=\"middle\" y=\"247.0\">\n",
              "    <tspan class=\"displacy-word\" fill=\"currentColor\" x=\"1330\">$</tspan>\n",
              "    <tspan class=\"displacy-tag\" dy=\"2em\" fill=\"currentColor\" x=\"1330\">SYM</tspan>\n",
              "</text>\n",
              "\n",
              "<text class=\"displacy-token\" fill=\"currentColor\" text-anchor=\"middle\" y=\"247.0\">\n",
              "    <tspan class=\"displacy-word\" fill=\"currentColor\" x=\"1410\">1</tspan>\n",
              "    <tspan class=\"displacy-tag\" dy=\"2em\" fill=\"currentColor\" x=\"1410\">NUM</tspan>\n",
              "</text>\n",
              "\n",
              "<text class=\"displacy-token\" fill=\"currentColor\" text-anchor=\"middle\" y=\"247.0\">\n",
              "    <tspan class=\"displacy-word\" fill=\"currentColor\" x=\"1490\">billion</tspan>\n",
              "    <tspan class=\"displacy-tag\" dy=\"2em\" fill=\"currentColor\" x=\"1490\">NUM</tspan>\n",
              "</text>\n",
              "\n",
              "<g class=\"displacy-arrow\">\n",
              "    <path class=\"displacy-arc\" id=\"arrow-4436ce45d5314786b3093c68de3293a4-0-0\" stroke-width=\"2px\" d=\"M62,202.0 62,188.66666666666666 118.0,188.66666666666666 118.0,202.0\" fill=\"none\" stroke=\"currentColor\"/>\n",
              "    <text dy=\"1.25em\" style=\"font-size: 0.8em; letter-spacing: 1px\">\n",
              "        <textPath xlink:href=\"#arrow-4436ce45d5314786b3093c68de3293a4-0-0\" class=\"displacy-label\" startOffset=\"50%\" side=\"left\" fill=\"currentColor\" text-anchor=\"middle\">nsubj</textPath>\n",
              "    </text>\n",
              "    <path class=\"displacy-arrowhead\" d=\"M62,204.0 L58,196.0 66,196.0\" fill=\"currentColor\"/>\n",
              "</g>\n",
              "\n",
              "<g class=\"displacy-arrow\">\n",
              "    <path class=\"displacy-arc\" id=\"arrow-4436ce45d5314786b3093c68de3293a4-0-1\" stroke-width=\"2px\" d=\"M142,202.0 142,162.0 684.0,162.0 684.0,202.0\" fill=\"none\" stroke=\"currentColor\"/>\n",
              "    <text dy=\"1.25em\" style=\"font-size: 0.8em; letter-spacing: 1px\">\n",
              "        <textPath xlink:href=\"#arrow-4436ce45d5314786b3093c68de3293a4-0-1\" class=\"displacy-label\" startOffset=\"50%\" side=\"left\" fill=\"currentColor\" text-anchor=\"middle\">ccomp</textPath>\n",
              "    </text>\n",
              "    <path class=\"displacy-arrowhead\" d=\"M142,204.0 L138,196.0 146,196.0\" fill=\"currentColor\"/>\n",
              "</g>\n",
              "\n",
              "<g class=\"displacy-arrow\">\n",
              "    <path class=\"displacy-arc\" id=\"arrow-4436ce45d5314786b3093c68de3293a4-0-2\" stroke-width=\"2px\" d=\"M142,202.0 142,188.66666666666666 198.0,188.66666666666666 198.0,202.0\" fill=\"none\" stroke=\"currentColor\"/>\n",
              "    <text dy=\"1.25em\" style=\"font-size: 0.8em; letter-spacing: 1px\">\n",
              "        <textPath xlink:href=\"#arrow-4436ce45d5314786b3093c68de3293a4-0-2\" class=\"displacy-label\" startOffset=\"50%\" side=\"left\" fill=\"currentColor\" text-anchor=\"middle\">dobj</textPath>\n",
              "    </text>\n",
              "    <path class=\"displacy-arrowhead\" d=\"M198.0,204.0 L202.0,196.0 194.0,196.0\" fill=\"currentColor\"/>\n",
              "</g>\n",
              "\n",
              "<g class=\"displacy-arrow\">\n",
              "    <path class=\"displacy-arc\" id=\"arrow-4436ce45d5314786b3093c68de3293a4-0-3\" stroke-width=\"2px\" d=\"M142,202.0 142,175.33333333333334 281.0,175.33333333333334 281.0,202.0\" fill=\"none\" stroke=\"currentColor\"/>\n",
              "    <text dy=\"1.25em\" style=\"font-size: 0.8em; letter-spacing: 1px\">\n",
              "        <textPath xlink:href=\"#arrow-4436ce45d5314786b3093c68de3293a4-0-3\" class=\"displacy-label\" startOffset=\"50%\" side=\"left\" fill=\"currentColor\" text-anchor=\"middle\">prep</textPath>\n",
              "    </text>\n",
              "    <path class=\"displacy-arrowhead\" d=\"M281.0,204.0 L285.0,196.0 277.0,196.0\" fill=\"currentColor\"/>\n",
              "</g>\n",
              "\n",
              "<g class=\"displacy-arrow\">\n",
              "    <path class=\"displacy-arc\" id=\"arrow-4436ce45d5314786b3093c68de3293a4-0-4\" stroke-width=\"2px\" d=\"M382,202.0 382,188.66666666666666 438.0,188.66666666666666 438.0,202.0\" fill=\"none\" stroke=\"currentColor\"/>\n",
              "    <text dy=\"1.25em\" style=\"font-size: 0.8em; letter-spacing: 1px\">\n",
              "        <textPath xlink:href=\"#arrow-4436ce45d5314786b3093c68de3293a4-0-4\" class=\"displacy-label\" startOffset=\"50%\" side=\"left\" fill=\"currentColor\" text-anchor=\"middle\">det</textPath>\n",
              "    </text>\n",
              "    <path class=\"displacy-arrowhead\" d=\"M382,204.0 L378,196.0 386,196.0\" fill=\"currentColor\"/>\n",
              "</g>\n",
              "\n",
              "<g class=\"displacy-arrow\">\n",
              "    <path class=\"displacy-arc\" id=\"arrow-4436ce45d5314786b3093c68de3293a4-0-5\" stroke-width=\"2px\" d=\"M302,202.0 302,175.33333333333334 441.0,175.33333333333334 441.0,202.0\" fill=\"none\" stroke=\"currentColor\"/>\n",
              "    <text dy=\"1.25em\" style=\"font-size: 0.8em; letter-spacing: 1px\">\n",
              "        <textPath xlink:href=\"#arrow-4436ce45d5314786b3093c68de3293a4-0-5\" class=\"displacy-label\" startOffset=\"50%\" side=\"left\" fill=\"currentColor\" text-anchor=\"middle\">pobj</textPath>\n",
              "    </text>\n",
              "    <path class=\"displacy-arrowhead\" d=\"M441.0,204.0 L445.0,196.0 437.0,196.0\" fill=\"currentColor\"/>\n",
              "</g>\n",
              "\n",
              "<g class=\"displacy-arrow\">\n",
              "    <path class=\"displacy-arc\" id=\"arrow-4436ce45d5314786b3093c68de3293a4-0-6\" stroke-width=\"2px\" d=\"M542,202.0 542,175.33333333333334 681.0,175.33333333333334 681.0,202.0\" fill=\"none\" stroke=\"currentColor\"/>\n",
              "    <text dy=\"1.25em\" style=\"font-size: 0.8em; letter-spacing: 1px\">\n",
              "        <textPath xlink:href=\"#arrow-4436ce45d5314786b3093c68de3293a4-0-6\" class=\"displacy-label\" startOffset=\"50%\" side=\"left\" fill=\"currentColor\" text-anchor=\"middle\">nsubjpass</textPath>\n",
              "    </text>\n",
              "    <path class=\"displacy-arrowhead\" d=\"M542,204.0 L538,196.0 546,196.0\" fill=\"currentColor\"/>\n",
              "</g>\n",
              "\n",
              "<g class=\"displacy-arrow\">\n",
              "    <path class=\"displacy-arc\" id=\"arrow-4436ce45d5314786b3093c68de3293a4-0-7\" stroke-width=\"2px\" d=\"M622,202.0 622,188.66666666666666 678.0,188.66666666666666 678.0,202.0\" fill=\"none\" stroke=\"currentColor\"/>\n",
              "    <text dy=\"1.25em\" style=\"font-size: 0.8em; letter-spacing: 1px\">\n",
              "        <textPath xlink:href=\"#arrow-4436ce45d5314786b3093c68de3293a4-0-7\" class=\"displacy-label\" startOffset=\"50%\" side=\"left\" fill=\"currentColor\" text-anchor=\"middle\">auxpass</textPath>\n",
              "    </text>\n",
              "    <path class=\"displacy-arrowhead\" d=\"M622,204.0 L618,196.0 626,196.0\" fill=\"currentColor\"/>\n",
              "</g>\n",
              "\n",
              "<g class=\"displacy-arrow\">\n",
              "    <path class=\"displacy-arc\" id=\"arrow-4436ce45d5314786b3093c68de3293a4-0-8\" stroke-width=\"2px\" d=\"M702,202.0 702,188.66666666666666 758.0,188.66666666666666 758.0,202.0\" fill=\"none\" stroke=\"currentColor\"/>\n",
              "    <text dy=\"1.25em\" style=\"font-size: 0.8em; letter-spacing: 1px\">\n",
              "        <textPath xlink:href=\"#arrow-4436ce45d5314786b3093c68de3293a4-0-8\" class=\"displacy-label\" startOffset=\"50%\" side=\"left\" fill=\"currentColor\" text-anchor=\"middle\">prep</textPath>\n",
              "    </text>\n",
              "    <path class=\"displacy-arrowhead\" d=\"M758.0,204.0 L762.0,196.0 754.0,196.0\" fill=\"currentColor\"/>\n",
              "</g>\n",
              "\n",
              "<g class=\"displacy-arrow\">\n",
              "    <path class=\"displacy-arc\" id=\"arrow-4436ce45d5314786b3093c68de3293a4-0-9\" stroke-width=\"2px\" d=\"M782,202.0 782,188.66666666666666 838.0,188.66666666666666 838.0,202.0\" fill=\"none\" stroke=\"currentColor\"/>\n",
              "    <text dy=\"1.25em\" style=\"font-size: 0.8em; letter-spacing: 1px\">\n",
              "        <textPath xlink:href=\"#arrow-4436ce45d5314786b3093c68de3293a4-0-9\" class=\"displacy-label\" startOffset=\"50%\" side=\"left\" fill=\"currentColor\" text-anchor=\"middle\">pobj</textPath>\n",
              "    </text>\n",
              "    <path class=\"displacy-arrowhead\" d=\"M838.0,204.0 L842.0,196.0 834.0,196.0\" fill=\"currentColor\"/>\n",
              "</g>\n",
              "\n",
              "<g class=\"displacy-arrow\">\n",
              "    <path class=\"displacy-arc\" id=\"arrow-4436ce45d5314786b3093c68de3293a4-0-10\" stroke-width=\"2px\" d=\"M702,202.0 702,175.33333333333334 921.0,175.33333333333334 921.0,202.0\" fill=\"none\" stroke=\"currentColor\"/>\n",
              "    <text dy=\"1.25em\" style=\"font-size: 0.8em; letter-spacing: 1px\">\n",
              "        <textPath xlink:href=\"#arrow-4436ce45d5314786b3093c68de3293a4-0-10\" class=\"displacy-label\" startOffset=\"50%\" side=\"left\" fill=\"currentColor\" text-anchor=\"middle\">cc</textPath>\n",
              "    </text>\n",
              "    <path class=\"displacy-arrowhead\" d=\"M921.0,204.0 L925.0,196.0 917.0,196.0\" fill=\"currentColor\"/>\n",
              "</g>\n",
              "\n",
              "<g class=\"displacy-arrow\">\n",
              "    <path class=\"displacy-arc\" id=\"arrow-4436ce45d5314786b3093c68de3293a4-0-11\" stroke-width=\"2px\" d=\"M1022,202.0 1022,188.66666666666666 1078.0,188.66666666666666 1078.0,202.0\" fill=\"none\" stroke=\"currentColor\"/>\n",
              "    <text dy=\"1.25em\" style=\"font-size: 0.8em; letter-spacing: 1px\">\n",
              "        <textPath xlink:href=\"#arrow-4436ce45d5314786b3093c68de3293a4-0-11\" class=\"displacy-label\" startOffset=\"50%\" side=\"left\" fill=\"currentColor\" text-anchor=\"middle\">nsubj</textPath>\n",
              "    </text>\n",
              "    <path class=\"displacy-arrowhead\" d=\"M1022,204.0 L1018,196.0 1026,196.0\" fill=\"currentColor\"/>\n",
              "</g>\n",
              "\n",
              "<g class=\"displacy-arrow\">\n",
              "    <path class=\"displacy-arc\" id=\"arrow-4436ce45d5314786b3093c68de3293a4-0-12\" stroke-width=\"2px\" d=\"M702,202.0 702,162.0 1084.0,162.0 1084.0,202.0\" fill=\"none\" stroke=\"currentColor\"/>\n",
              "    <text dy=\"1.25em\" style=\"font-size: 0.8em; letter-spacing: 1px\">\n",
              "        <textPath xlink:href=\"#arrow-4436ce45d5314786b3093c68de3293a4-0-12\" class=\"displacy-label\" startOffset=\"50%\" side=\"left\" fill=\"currentColor\" text-anchor=\"middle\">conj</textPath>\n",
              "    </text>\n",
              "    <path class=\"displacy-arrowhead\" d=\"M1084.0,204.0 L1088.0,196.0 1080.0,196.0\" fill=\"currentColor\"/>\n",
              "</g>\n",
              "\n",
              "<g class=\"displacy-arrow\">\n",
              "    <path class=\"displacy-arc\" id=\"arrow-4436ce45d5314786b3093c68de3293a4-0-13\" stroke-width=\"2px\" d=\"M1182,202.0 1182,148.66666666666666 1487.0,148.66666666666666 1487.0,202.0\" fill=\"none\" stroke=\"currentColor\"/>\n",
              "    <text dy=\"1.25em\" style=\"font-size: 0.8em; letter-spacing: 1px\">\n",
              "        <textPath xlink:href=\"#arrow-4436ce45d5314786b3093c68de3293a4-0-13\" class=\"displacy-label\" startOffset=\"50%\" side=\"left\" fill=\"currentColor\" text-anchor=\"middle\">amod</textPath>\n",
              "    </text>\n",
              "    <path class=\"displacy-arrowhead\" d=\"M1182,204.0 L1178,196.0 1186,196.0\" fill=\"currentColor\"/>\n",
              "</g>\n",
              "\n",
              "<g class=\"displacy-arrow\">\n",
              "    <path class=\"displacy-arc\" id=\"arrow-4436ce45d5314786b3093c68de3293a4-0-14\" stroke-width=\"2px\" d=\"M1262,202.0 1262,162.0 1484.0,162.0 1484.0,202.0\" fill=\"none\" stroke=\"currentColor\"/>\n",
              "    <text dy=\"1.25em\" style=\"font-size: 0.8em; letter-spacing: 1px\">\n",
              "        <textPath xlink:href=\"#arrow-4436ce45d5314786b3093c68de3293a4-0-14\" class=\"displacy-label\" startOffset=\"50%\" side=\"left\" fill=\"currentColor\" text-anchor=\"middle\">quantmod</textPath>\n",
              "    </text>\n",
              "    <path class=\"displacy-arrowhead\" d=\"M1262,204.0 L1258,196.0 1266,196.0\" fill=\"currentColor\"/>\n",
              "</g>\n",
              "\n",
              "<g class=\"displacy-arrow\">\n",
              "    <path class=\"displacy-arc\" id=\"arrow-4436ce45d5314786b3093c68de3293a4-0-15\" stroke-width=\"2px\" d=\"M1342,202.0 1342,175.33333333333334 1481.0,175.33333333333334 1481.0,202.0\" fill=\"none\" stroke=\"currentColor\"/>\n",
              "    <text dy=\"1.25em\" style=\"font-size: 0.8em; letter-spacing: 1px\">\n",
              "        <textPath xlink:href=\"#arrow-4436ce45d5314786b3093c68de3293a4-0-15\" class=\"displacy-label\" startOffset=\"50%\" side=\"left\" fill=\"currentColor\" text-anchor=\"middle\">quantmod</textPath>\n",
              "    </text>\n",
              "    <path class=\"displacy-arrowhead\" d=\"M1342,204.0 L1338,196.0 1346,196.0\" fill=\"currentColor\"/>\n",
              "</g>\n",
              "\n",
              "<g class=\"displacy-arrow\">\n",
              "    <path class=\"displacy-arc\" id=\"arrow-4436ce45d5314786b3093c68de3293a4-0-16\" stroke-width=\"2px\" d=\"M1422,202.0 1422,188.66666666666666 1478.0,188.66666666666666 1478.0,202.0\" fill=\"none\" stroke=\"currentColor\"/>\n",
              "    <text dy=\"1.25em\" style=\"font-size: 0.8em; letter-spacing: 1px\">\n",
              "        <textPath xlink:href=\"#arrow-4436ce45d5314786b3093c68de3293a4-0-16\" class=\"displacy-label\" startOffset=\"50%\" side=\"left\" fill=\"currentColor\" text-anchor=\"middle\">compound</textPath>\n",
              "    </text>\n",
              "    <path class=\"displacy-arrowhead\" d=\"M1422,204.0 L1418,196.0 1426,196.0\" fill=\"currentColor\"/>\n",
              "</g>\n",
              "\n",
              "<g class=\"displacy-arrow\">\n",
              "    <path class=\"displacy-arc\" id=\"arrow-4436ce45d5314786b3093c68de3293a4-0-17\" stroke-width=\"2px\" d=\"M1102,202.0 1102,135.33333333333331 1490.0,135.33333333333331 1490.0,202.0\" fill=\"none\" stroke=\"currentColor\"/>\n",
              "    <text dy=\"1.25em\" style=\"font-size: 0.8em; letter-spacing: 1px\">\n",
              "        <textPath xlink:href=\"#arrow-4436ce45d5314786b3093c68de3293a4-0-17\" class=\"displacy-label\" startOffset=\"50%\" side=\"left\" fill=\"currentColor\" text-anchor=\"middle\">dobj</textPath>\n",
              "    </text>\n",
              "    <path class=\"displacy-arrowhead\" d=\"M1490.0,204.0 L1494.0,196.0 1486.0,196.0\" fill=\"currentColor\"/>\n",
              "</g>\n",
              "</svg></span>"
            ]
          },
          "metadata": {}
        }
      ]
    },
    {
      "cell_type": "code",
      "source": [],
      "metadata": {
        "id": "QjVWytjK4WWl"
      },
      "execution_count": null,
      "outputs": []
    }
  ]
}