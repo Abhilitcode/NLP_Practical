{
  "nbformat": 4,
  "nbformat_minor": 0,
  "metadata": {
    "colab": {
      "provenance": [],
      "authorship_tag": "ABX9TyMD7CsGkpDz9vY6q2EEKbTM",
      "include_colab_link": true
    },
    "kernelspec": {
      "name": "python3",
      "display_name": "Python 3"
    },
    "language_info": {
      "name": "python"
    }
  },
  "cells": [
    {
      "cell_type": "markdown",
      "metadata": {
        "id": "view-in-github",
        "colab_type": "text"
      },
      "source": [
        "<a href=\"https://colab.research.google.com/github/Abhilitcode/NLP_Practical/blob/main/Word2Vec_implementattion.ipynb\" target=\"_parent\"><img src=\"https://colab.research.google.com/assets/colab-badge.svg\" alt=\"Open In Colab\"/></a>"
      ]
    },
    {
      "cell_type": "code",
      "execution_count": 34,
      "metadata": {
        "id": "yRLhiKbl7DAG"
      },
      "outputs": [],
      "source": [
        "import gensim"
      ]
    },
    {
      "cell_type": "code",
      "source": [
        "from gensim.models import Word2Vec, KeyedVectors"
      ],
      "metadata": {
        "id": "gtxSqlIjNq6d"
      },
      "execution_count": 35,
      "outputs": []
    },
    {
      "cell_type": "code",
      "source": [
        "!pip install wget\n"
      ],
      "metadata": {
        "colab": {
          "base_uri": "https://localhost:8080/"
        },
        "id": "a1dZHnBIN1Ae",
        "outputId": "b041ad8a-88de-4eb5-94ac-fdcb8dc105d2"
      },
      "execution_count": 36,
      "outputs": [
        {
          "output_type": "stream",
          "name": "stdout",
          "text": [
            "Requirement already satisfied: wget in /usr/local/lib/python3.10/dist-packages (3.2)\n"
          ]
        }
      ]
    },
    {
      "cell_type": "markdown",
      "source": [
        "now it has stopped working"
      ],
      "metadata": {
        "id": "7cGFA6XIPQB-"
      }
    },
    {
      "cell_type": "code",
      "source": [
        "!wget -c \"https://s3.amazonaws.com/dl4j-distribution/GoogleNews-vectors-negative300.bin.gz\""
      ],
      "metadata": {
        "colab": {
          "base_uri": "https://localhost:8080/"
        },
        "id": "8jWK8CqoOAoW",
        "outputId": "cf2f84d2-ce53-46bd-f90c-9c7ff92d2e03"
      },
      "execution_count": 37,
      "outputs": [
        {
          "output_type": "stream",
          "name": "stdout",
          "text": [
            "--2024-11-13 11:33:19--  https://s3.amazonaws.com/dl4j-distribution/GoogleNews-vectors-negative300.bin.gz\n",
            "Resolving s3.amazonaws.com (s3.amazonaws.com)... 52.217.38.38, 52.217.129.24, 52.217.168.192, ...\n",
            "Connecting to s3.amazonaws.com (s3.amazonaws.com)|52.217.38.38|:443... connected.\n",
            "HTTP request sent, awaiting response... 404 Not Found\n",
            "2024-11-13 11:33:19 ERROR 404: Not Found.\n",
            "\n"
          ]
        }
      ]
    },
    {
      "cell_type": "markdown",
      "source": [
        "lets try other link."
      ],
      "metadata": {
        "id": "QpbWMhatPTvW"
      }
    },
    {
      "cell_type": "code",
      "source": [
        "import gensim.downloader as api"
      ],
      "metadata": {
        "id": "375uWzsGPSiP"
      },
      "execution_count": 38,
      "outputs": []
    },
    {
      "cell_type": "code",
      "source": [
        "# Load the pre-trained GloVe model\n",
        "model = api.load(\"glove-wiki-gigaword-300\")"
      ],
      "metadata": {
        "id": "OK5pHSEphzDp"
      },
      "execution_count": 39,
      "outputs": []
    },
    {
      "cell_type": "code",
      "source": [
        "model['king']"
      ],
      "metadata": {
        "colab": {
          "base_uri": "https://localhost:8080/"
        },
        "id": "mevXpKJEi3ff",
        "outputId": "dde5f43b-af4d-41cf-8c1b-f3e9d0c8190a"
      },
      "execution_count": 40,
      "outputs": [
        {
          "output_type": "execute_result",
          "data": {
            "text/plain": [
              "array([ 0.0033901, -0.34614  ,  0.28144  ,  0.48382  ,  0.59469  ,\n",
              "        0.012965 ,  0.53982  ,  0.48233  ,  0.21463  , -1.0249   ,\n",
              "       -0.34788  , -0.79001  , -0.15084  ,  0.61374  ,  0.042811 ,\n",
              "        0.19323  ,  0.25462  ,  0.32528  ,  0.05698  ,  0.063253 ,\n",
              "       -0.49439  ,  0.47337  , -0.16761  ,  0.045594 ,  0.30451  ,\n",
              "       -0.35416  , -0.34583  , -0.20118  ,  0.25511  ,  0.091111 ,\n",
              "        0.014651 , -0.017541 , -0.23854  ,  0.48215  , -0.9145   ,\n",
              "       -0.36235  ,  0.34736  ,  0.028639 , -0.027065 , -0.036481 ,\n",
              "       -0.067391 , -0.23452  , -0.13772  ,  0.33951  ,  0.13415  ,\n",
              "       -0.1342   ,  0.47856  , -0.1842   ,  0.10705  , -0.45834  ,\n",
              "       -0.36085  , -0.22595  ,  0.32881  , -0.13643  ,  0.23128  ,\n",
              "        0.34269  ,  0.42344  ,  0.47057  ,  0.479    ,  0.074639 ,\n",
              "        0.3344   ,  0.10714  , -0.13289  ,  0.58734  ,  0.38616  ,\n",
              "       -0.52238  , -0.22028  , -0.072322 ,  0.32269  ,  0.44226  ,\n",
              "       -0.037382 ,  0.18324  ,  0.058082 ,  0.26938  ,  0.36202  ,\n",
              "        0.13983  ,  0.016815 , -0.34426  ,  0.4827   ,  0.2108   ,\n",
              "        0.75618  , -0.13092  , -0.025741 ,  0.43391  ,  0.33893  ,\n",
              "       -0.16438  ,  0.26817  ,  0.68774  ,  0.311    , -0.2509   ,\n",
              "        0.0027749, -0.39809  , -0.43399  ,  0.049531 , -0.42686  ,\n",
              "       -0.094679 ,  0.56925  ,  0.28742  , -0.015721 , -0.059162 ,\n",
              "        0.1912   , -0.59814  ,  0.65486  , -0.31363  ,  0.16881  ,\n",
              "        0.10862  ,  0.075316 ,  0.34093  , -0.14706  ,  0.8359   ,\n",
              "        0.39697  ,  0.52358  , -0.0096367, -0.14406  ,  0.37783  ,\n",
              "       -0.596    , -0.063192 , -0.85297  , -0.3098   , -1.0587   ,\n",
              "       -1.025    ,  0.4508   , -0.73324  , -1.2461   , -0.028488 ,\n",
              "        0.20299  ,  0.00259  ,  0.31995  ,  0.35744  ,  0.28533  ,\n",
              "        0.228    ,  0.50956  , -0.35942  ,  0.32683  ,  0.046264 ,\n",
              "       -0.86896  , -0.2707   , -0.15454  , -0.32152  ,  0.31121  ,\n",
              "        0.44134  ,  0.85189  ,  0.21065  , -0.13741  , -0.15359  ,\n",
              "       -0.059722 ,  0.027375 ,  0.23724  , -0.39197  , -0.66065  ,\n",
              "        0.23587  ,  0.032384 , -0.64043  ,  0.55004  ,  0.29597  ,\n",
              "        0.14989  ,  0.46079  , -0.26561  , -0.1607   , -0.36328  ,\n",
              "        1.0782   ,  0.31375  ,  0.1149   ,  0.20248  ,  0.032748 ,\n",
              "        0.41082  , -0.082536 ,  0.36606  ,  0.18771  ,  0.75415  ,\n",
              "        0.079648 ,  0.24181  , -0.60319  , -0.37296  , -0.047767 ,\n",
              "        0.45008  , -0.21135  ,  0.022251 , -0.084325 ,  0.18644  ,\n",
              "       -0.14682  ,  0.56571  , -0.30995  ,  0.17423  , -0.41122  ,\n",
              "       -0.84772  , -0.71114  ,  0.69895  , -0.13008  , -0.34195  ,\n",
              "       -0.30501  , -0.12646  ,  0.29957  , -0.43488  ,  0.31935  ,\n",
              "        0.2817   , -0.20631  , -0.48877  ,  0.34477  ,  0.03907  ,\n",
              "        1.6198   , -0.6352   , -0.0037675, -0.41271  ,  0.30704  ,\n",
              "       -0.50486  ,  0.036385 , -0.046386 , -0.12004  ,  0.010029 ,\n",
              "       -0.49116  ,  0.041486 ,  0.002979 , -0.57694  , -0.42088  ,\n",
              "       -0.063218 ,  0.0034244, -0.25093  , -0.39689  , -0.36984  ,\n",
              "        0.32689  ,  0.01385  ,  0.23634  , -0.055199 , -0.58453  ,\n",
              "        0.13211  ,  0.50943  ,  0.25198  , -0.0088309, -0.21273  ,\n",
              "       -0.48423  ,  0.5234   , -0.32832  , -0.013821 ,  0.15812  ,\n",
              "        0.46696  ,  0.036822 , -0.090878 ,  0.18854  ,  0.20794  ,\n",
              "       -0.42682  ,  0.59705  ,  0.53109  ,  0.19185  , -0.16392  ,\n",
              "        0.064956 , -0.36009  , -0.59882  , -0.28134  ,  0.1017   ,\n",
              "        0.02601  ,  0.44298  , -0.31922  , -0.22432  ,  0.7828   ,\n",
              "        0.041307 ,  0.1742   ,  0.27777  ,  0.43792  , -0.84324  ,\n",
              "        0.27012  , -0.21547  ,  0.52408  , -0.19426  , -0.21878  ,\n",
              "       -0.20713  ,  0.092994 , -0.15804  ,  0.28716  , -0.11911  ,\n",
              "       -0.20688  , -0.36482  ,  0.68548  , -0.10394  , -0.49974  ,\n",
              "       -0.47038  , -1.2953   , -0.46236  ,  0.44467  ,  0.13337  ,\n",
              "        0.88762  , -0.26494  ,  0.080676 , -0.20625  , -0.51232  ,\n",
              "        0.31112  ,  0.062035 ,  0.30302  , -0.33344  , -0.20924  ,\n",
              "       -0.17348  , -0.43434  , -0.45743  , -0.077803 , -0.33248  ,\n",
              "       -0.078633 ,  0.82182  ,  0.082088 , -0.68795  ,  0.30266  ],\n",
              "      dtype=float32)"
            ]
          },
          "metadata": {},
          "execution_count": 40
        }
      ]
    },
    {
      "cell_type": "code",
      "source": [
        "model['man']"
      ],
      "metadata": {
        "colab": {
          "base_uri": "https://localhost:8080/"
        },
        "id": "TWM7XmX-jFlx",
        "outputId": "ab8d0310-554f-4faf-cae0-533287182743"
      },
      "execution_count": 41,
      "outputs": [
        {
          "output_type": "execute_result",
          "data": {
            "text/plain": [
              "array([-0.29784  , -0.13255  , -0.14505  , -0.22752  , -0.027429 ,\n",
              "        0.11005  , -0.039245 , -0.0089607, -0.18866  , -1.1213   ,\n",
              "        0.34793  , -0.30056  , -0.50103  , -0.031383 , -0.032185 ,\n",
              "        0.018318 , -0.090429 , -0.14427  , -0.14306  , -0.057477 ,\n",
              "       -0.020931 ,  0.56276  , -0.018557 ,  0.15168  , -0.25586  ,\n",
              "       -0.081564 ,  0.2803   , -0.10585  , -0.16777  ,  0.21814  ,\n",
              "       -0.11845  ,  0.56475  , -0.12645  , -0.062461 , -0.68043  ,\n",
              "        0.10507  ,  0.24793  , -0.20249  , -0.30726  ,  0.42815  ,\n",
              "        0.38378  , -0.19371  , -0.075951 , -0.058287 , -0.067195 ,\n",
              "        0.2192   ,  0.56116  , -0.28156  , -0.13705  ,  0.45754  ,\n",
              "       -0.14671  , -0.18562  , -0.074146 ,  0.60737  ,  0.07952  ,\n",
              "        0.41023  ,  0.18377  , -0.08532  ,  0.43795  , -0.34727  ,\n",
              "        0.2077   ,  0.50454  ,  0.40244  ,  0.1095   , -0.48078  ,\n",
              "       -0.22372  , -0.54619  , -0.20782  ,  0.13751  , -0.16206  ,\n",
              "       -0.24835  ,  0.17124  ,  0.037355 ,  0.14547  , -0.056205 ,\n",
              "        0.2644   , -0.38029  ,  0.0029947,  0.051608 ,  0.21807  ,\n",
              "       -0.071087 ,  0.31543  ,  0.24593  ,  0.34444  , -0.36354  ,\n",
              "       -0.12137  , -0.013511 ,  0.049564 ,  0.031386 ,  0.10316  ,\n",
              "       -0.44301  ,  0.11663  , -0.055576 , -0.091434 , -0.070799 ,\n",
              "       -0.017031 ,  0.046024 ,  0.096063 ,  0.10148  , -0.33467  ,\n",
              "       -0.043516 ,  0.38271  ,  0.018411 ,  0.0049479,  0.35587  ,\n",
              "        0.40432  ,  0.4823   ,  0.12416  , -0.051926 , -0.081769 ,\n",
              "       -0.21542  ,  0.71766  , -0.0052553, -0.55428  ,  0.68033  ,\n",
              "        0.20255  , -0.19927  , -0.11563  ,  0.0030103, -0.74399  ,\n",
              "       -0.21086  ,  0.069584 , -0.20315  , -0.17027  , -0.11292  ,\n",
              "       -0.044594 , -0.2145   ,  0.26097  ,  0.36969  , -0.65155  ,\n",
              "        0.048649 ,  0.044304 , -0.26604  ,  0.23976  , -0.38281  ,\n",
              "       -0.02353  , -0.020519 , -0.52202  , -0.30595  ,  0.088525 ,\n",
              "        0.28395  ,  0.15056  ,  0.23202  ,  0.30538  , -0.53674  ,\n",
              "        0.21362  ,  0.10999  ,  0.4685   , -0.60017  , -0.13141  ,\n",
              "        0.18707  ,  0.11636  ,  0.24703  ,  0.17168  ,  0.40658  ,\n",
              "       -0.19039  ,  0.033278 , -0.26374  ,  0.28722  ,  0.27659  ,\n",
              "        0.30153  , -0.12622  ,  0.5225   ,  0.13887  , -0.15012  ,\n",
              "       -0.0038264, -0.074287 ,  0.46348  ,  0.26215  , -0.62671  ,\n",
              "        0.21841  , -0.26531  , -0.75294  , -0.36826  ,  0.072989 ,\n",
              "       -0.071807 ,  0.10612  , -0.087064 , -0.053871 ,  0.22379  ,\n",
              "        0.38538  ,  0.053972 ,  0.21208  ,  0.39662  , -0.38609  ,\n",
              "       -0.53     , -0.34169  ,  0.067624 ,  0.11835  ,  0.60372  ,\n",
              "        0.21744  , -0.12806  ,  0.13802  ,  0.22463  , -0.21566  ,\n",
              "       -0.25167  , -0.44859  , -0.39111  , -0.5259   ,  0.21266  ,\n",
              "        1.9729   ,  0.13851  ,  0.32966  ,  0.047626 , -0.37787  ,\n",
              "       -0.31769  , -0.1283   ,  0.34396  , -0.11061  , -0.23346  ,\n",
              "       -0.45134  ,  0.1605   , -0.32801  ,  0.033373 ,  0.42571  ,\n",
              "        0.42283  , -0.16932  ,  0.14068  ,  0.14087  ,  0.20856  ,\n",
              "       -0.24912  ,  0.38337  ,  0.43722  , -0.090575 ,  0.021208 ,\n",
              "       -0.22334  , -0.42596  , -0.47252  , -0.1995   ,  0.32459  ,\n",
              "        0.39765  , -0.091573 , -0.073528 , -0.20074  ,  0.22083  ,\n",
              "        0.011314 ,  0.11977  , -0.14888  , -0.27152  ,  0.28908  ,\n",
              "        0.20407  ,  0.098377 , -0.1424   , -0.059699 ,  0.032529 ,\n",
              "       -0.1877   ,  0.24643  , -0.1128   ,  0.14666  ,  0.076001 ,\n",
              "        0.31109  , -0.22119  ,  0.033051 ,  0.066731 ,  1.5449   ,\n",
              "       -0.11096  ,  0.26438  ,  0.1791   ,  0.039628 , -0.46497  ,\n",
              "        0.40052  , -0.057004 ,  0.11391  ,  0.42397  , -0.57411  ,\n",
              "        0.17205  ,  0.44401  , -0.030134 , -0.22061  ,  0.47222  ,\n",
              "       -0.12734  , -0.12288  ,  0.33832  ,  0.41698  ,  0.18355  ,\n",
              "        0.093473 , -1.9373   ,  0.053236 , -0.10361  ,  0.056681 ,\n",
              "       -0.12726  , -0.11681  ,  0.55039  ,  0.33644  ,  0.27706  ,\n",
              "        0.71184  , -0.1304   ,  0.26108  , -0.2481   ,  0.0032735,\n",
              "       -0.16505  ,  0.11827  , -0.26322  , -0.10169  ,  0.24275  ,\n",
              "        0.16927  , -0.15809  ,  0.27613  , -0.2832   ,  0.50554  ],\n",
              "      dtype=float32)"
            ]
          },
          "metadata": {},
          "execution_count": 41
        }
      ]
    },
    {
      "cell_type": "code",
      "source": [
        "model['king'].shape"
      ],
      "metadata": {
        "colab": {
          "base_uri": "https://localhost:8080/"
        },
        "id": "2ixusTAtjMXf",
        "outputId": "1554f724-ac16-401a-cf2e-388ece9df20d"
      },
      "execution_count": 42,
      "outputs": [
        {
          "output_type": "execute_result",
          "data": {
            "text/plain": [
              "(300,)"
            ]
          },
          "metadata": {},
          "execution_count": 42
        }
      ]
    },
    {
      "cell_type": "code",
      "source": [
        "model['man'].shape"
      ],
      "metadata": {
        "colab": {
          "base_uri": "https://localhost:8080/"
        },
        "id": "7UNUWNQujYeA",
        "outputId": "a7f8d9aa-0357-4b05-e221-286dbf770ded"
      },
      "execution_count": 43,
      "outputs": [
        {
          "output_type": "execute_result",
          "data": {
            "text/plain": [
              "(300,)"
            ]
          },
          "metadata": {},
          "execution_count": 43
        }
      ]
    },
    {
      "cell_type": "code",
      "source": [
        "model.most_similar('king')"
      ],
      "metadata": {
        "colab": {
          "base_uri": "https://localhost:8080/"
        },
        "id": "AnsBWR57jbDA",
        "outputId": "b6343553-9a55-4633-a573-6e966e869e54"
      },
      "execution_count": 44,
      "outputs": [
        {
          "output_type": "execute_result",
          "data": {
            "text/plain": [
              "[('queen', 0.6336469054222107),\n",
              " ('prince', 0.6196622848510742),\n",
              " ('monarch', 0.5899620652198792),\n",
              " ('kingdom', 0.5791266560554504),\n",
              " ('throne', 0.5606487989425659),\n",
              " ('ii', 0.5562329292297363),\n",
              " ('iii', 0.5503199100494385),\n",
              " ('crown', 0.5224862694740295),\n",
              " ('reign', 0.5217353701591492),\n",
              " ('kings', 0.5066401958465576)]"
            ]
          },
          "metadata": {},
          "execution_count": 44
        }
      ]
    },
    {
      "cell_type": "code",
      "source": [
        "model.most_similar('man')"
      ],
      "metadata": {
        "colab": {
          "base_uri": "https://localhost:8080/"
        },
        "id": "ulLXoInvkXzg",
        "outputId": "72045cdc-a291-4157-9d94-c3394437731f"
      },
      "execution_count": 45,
      "outputs": [
        {
          "output_type": "execute_result",
          "data": {
            "text/plain": [
              "[('woman', 0.6998663544654846),\n",
              " ('person', 0.6443442106246948),\n",
              " ('boy', 0.6208277940750122),\n",
              " ('he', 0.5926738381385803),\n",
              " ('men', 0.5819568634033203),\n",
              " ('himself', 0.5810033082962036),\n",
              " ('one', 0.5779521465301514),\n",
              " ('another', 0.5721587538719177),\n",
              " ('who', 0.5703631639480591),\n",
              " ('him', 0.5670831203460693)]"
            ]
          },
          "metadata": {},
          "execution_count": 45
        }
      ]
    },
    {
      "cell_type": "code",
      "source": [
        "model.most_similar('cricket')"
      ],
      "metadata": {
        "colab": {
          "base_uri": "https://localhost:8080/"
        },
        "id": "vZ6FxYWckfyA",
        "outputId": "b9f9237e-4330-40d1-e1ad-190f4c85b10b"
      },
      "execution_count": 46,
      "outputs": [
        {
          "output_type": "execute_result",
          "data": {
            "text/plain": [
              "[('cricketers', 0.6545779705047607),\n",
              " ('rugby', 0.6437458992004395),\n",
              " ('twenty20', 0.6317250728607178),\n",
              " ('indies', 0.5865111947059631),\n",
              " ('cricketer', 0.5858747363090515),\n",
              " ('matches', 0.5707770586013794),\n",
              " ('england', 0.5461760759353638),\n",
              " ('odi', 0.5428577065467834),\n",
              " ('cricketing', 0.538004457950592),\n",
              " ('first-class', 0.5359804034233093)]"
            ]
          },
          "metadata": {},
          "execution_count": 46
        }
      ]
    },
    {
      "cell_type": "code",
      "source": [
        "model.most_similar('facebook')"
      ],
      "metadata": {
        "colab": {
          "base_uri": "https://localhost:8080/"
        },
        "id": "LfL6ECBKksFn",
        "outputId": "9a34b571-db48-4275-d5b8-9a399cd240f9"
      },
      "execution_count": 47,
      "outputs": [
        {
          "output_type": "execute_result",
          "data": {
            "text/plain": [
              "[('twitter', 0.8349669575691223),\n",
              " ('myspace', 0.8055926561355591),\n",
              " ('youtube', 0.7291773557662964),\n",
              " ('blog', 0.6403629183769226),\n",
              " ('linkedin', 0.6332523822784424),\n",
              " ('google', 0.6268066763877869),\n",
              " ('website', 0.6157268285751343),\n",
              " ('web', 0.6143152713775635),\n",
              " ('blogs', 0.6064029932022095),\n",
              " ('networking', 0.6047351360321045)]"
            ]
          },
          "metadata": {},
          "execution_count": 47
        }
      ]
    },
    {
      "cell_type": "markdown",
      "source": [
        "find cosine similarities between them"
      ],
      "metadata": {
        "id": "GXz2809Wm6aJ"
      }
    },
    {
      "cell_type": "code",
      "source": [
        "model.similarity('man','woman')"
      ],
      "metadata": {
        "colab": {
          "base_uri": "https://localhost:8080/"
        },
        "id": "KY-fvexWm18o",
        "outputId": "b6f12c24-517a-449f-b6b4-f824d9dfec76"
      },
      "execution_count": 48,
      "outputs": [
        {
          "output_type": "execute_result",
          "data": {
            "text/plain": [
              "0.6998663"
            ]
          },
          "metadata": {},
          "execution_count": 48
        }
      ]
    },
    {
      "cell_type": "code",
      "source": [
        "model.similarity('man','king')"
      ],
      "metadata": {
        "colab": {
          "base_uri": "https://localhost:8080/"
        },
        "id": "Yj7OB_pCnfvI",
        "outputId": "a20d9dd3-ffb2-4124-85dd-899be83c3491"
      },
      "execution_count": 49,
      "outputs": [
        {
          "output_type": "execute_result",
          "data": {
            "text/plain": [
              "0.33313724"
            ]
          },
          "metadata": {},
          "execution_count": 49
        }
      ]
    },
    {
      "cell_type": "code",
      "source": [
        "model.similarity('man','hp')"
      ],
      "metadata": {
        "colab": {
          "base_uri": "https://localhost:8080/"
        },
        "id": "gKp5HxB7nl9Q",
        "outputId": "f0b998de-8662-4a2b-fcc4-51d3d7ee0a56"
      },
      "execution_count": 50,
      "outputs": [
        {
          "output_type": "execute_result",
          "data": {
            "text/plain": [
              "-0.036330298"
            ]
          },
          "metadata": {},
          "execution_count": 50
        }
      ]
    },
    {
      "cell_type": "code",
      "source": [
        "model.doesnt_match(['man','woman','hp'])"
      ],
      "metadata": {
        "colab": {
          "base_uri": "https://localhost:8080/",
          "height": 35
        },
        "id": "JHlDEQAWnwKQ",
        "outputId": "41daffa2-5e45-4507-b412-83ec64ad55e1"
      },
      "execution_count": 51,
      "outputs": [
        {
          "output_type": "execute_result",
          "data": {
            "text/plain": [
              "'hp'"
            ],
            "application/vnd.google.colaboratory.intrinsic+json": {
              "type": "string"
            }
          },
          "metadata": {},
          "execution_count": 51
        }
      ]
    },
    {
      "cell_type": "code",
      "source": [
        "vec = model['king'] - model['man'] + model['woman']"
      ],
      "metadata": {
        "id": "9BFdFjoxn6A4"
      },
      "execution_count": 52,
      "outputs": []
    },
    {
      "cell_type": "code",
      "source": [
        "model.most_similar([vec])"
      ],
      "metadata": {
        "colab": {
          "base_uri": "https://localhost:8080/"
        },
        "id": "jwOdYpz4t95Z",
        "outputId": "1b77138f-70f4-40e9-f496-279f78d96c3a"
      },
      "execution_count": 53,
      "outputs": [
        {
          "output_type": "execute_result",
          "data": {
            "text/plain": [
              "[('king', 0.8065858483314514),\n",
              " ('queen', 0.689616322517395),\n",
              " ('monarch', 0.5575491189956665),\n",
              " ('throne', 0.5565375089645386),\n",
              " ('princess', 0.5518684387207031),\n",
              " ('mother', 0.5142154693603516),\n",
              " ('daughter', 0.5133156776428223),\n",
              " ('kingdom', 0.5025345087051392),\n",
              " ('prince', 0.5017741322517395),\n",
              " ('elizabeth', 0.4908031225204468)]"
            ]
          },
          "metadata": {},
          "execution_count": 53
        }
      ]
    },
    {
      "cell_type": "code",
      "source": [
        "vec2 = model['sport'] - model['cricket'] + model['man']"
      ],
      "metadata": {
        "id": "CjRu49rFt-mp"
      },
      "execution_count": 54,
      "outputs": []
    },
    {
      "cell_type": "code",
      "source": [
        "model.most_similar([vec2])"
      ],
      "metadata": {
        "colab": {
          "base_uri": "https://localhost:8080/"
        },
        "id": "oX81m0MLucIJ",
        "outputId": "f1a89104-3f22-41b0-cd24-5d42afd076da"
      },
      "execution_count": 55,
      "outputs": [
        {
          "output_type": "execute_result",
          "data": {
            "text/plain": [
              "[('man', 0.6090114712715149),\n",
              " ('sport', 0.5217820405960083),\n",
              " ('woman', 0.48237451910972595),\n",
              " ('person', 0.43807926774024963),\n",
              " ('vehicle', 0.42424672842025757),\n",
              " ('car', 0.4187285602092743),\n",
              " ('suv', 0.41506636142730713),\n",
              " ('life', 0.40741318464279175),\n",
              " ('men', 0.400894433259964),\n",
              " ('boy', 0.39770805835723877)]"
            ]
          },
          "metadata": {},
          "execution_count": 55
        }
      ]
    },
    {
      "cell_type": "code",
      "source": [
        "vec3 = model['inr'] - model['india'] + model['england']"
      ],
      "metadata": {
        "id": "cfTbklKTuflS"
      },
      "execution_count": 56,
      "outputs": []
    },
    {
      "cell_type": "code",
      "source": [
        "model.most_similar([vec3])"
      ],
      "metadata": {
        "colab": {
          "base_uri": "https://localhost:8080/"
        },
        "id": "fa1x8peSu1TR",
        "outputId": "e376b41f-123c-42a5-9b9b-33eb70bdccb8"
      },
      "execution_count": 57,
      "outputs": [
        {
          "output_type": "execute_result",
          "data": {
            "text/plain": [
              "[('inr', 0.5061703324317932),\n",
              " ('hodgson', 0.3969799280166626),\n",
              " ('gbp', 0.38187316060066223),\n",
              " ('shrewsbury', 0.3750031292438507),\n",
              " ('northampton', 0.369886189699173),\n",
              " ('gloucester', 0.3602118492126465),\n",
              " ('alnwick', 0.3557157516479492),\n",
              " ('haverfordwest', 0.354501336812973),\n",
              " ('1075', 0.3528894782066345),\n",
              " ('₤', 0.34825700521469116)]"
            ]
          },
          "metadata": {},
          "execution_count": 57
        }
      ]
    },
    {
      "cell_type": "markdown",
      "source": [
        "TOPIC -: CBOW AND SKIP-GRAM\n",
        "\n",
        "\n",
        "Sure! Let’s break down **Continuous Bag of Words (CBOW)** and **Skip-Gram** models, two popular approaches used in the Word2Vec algorithm for generating word embeddings, in a simple and intuitive way.\n",
        "\n",
        "---\n",
        "\n",
        "### 1. Continuous Bag of Words (CBOW)\n",
        "\n",
        "#### Overview:\n",
        "- **Goal**: Predict the target word (center word) based on the context (surrounding words).\n",
        "- **How it works**: The model takes a few words (context) that appear around a target word and tries to guess the target word.\n",
        "\n",
        "#### Example:\n",
        "Imagine you have the following sentence:\n",
        "> \"The cat sits on the mat.\"\n",
        "\n",
        "Let's focus on the word **\"sits\"**:\n",
        "- Context words: [\"The\", \"cat\", \"on\", \"the\"]\n",
        "- Target word: **\"sits\"**\n",
        "\n",
        "In CBOW:\n",
        "- The model will take the context words [\"The\", \"cat\", \"on\", \"the\"] and try to predict that the target word is **\"sits\"**.\n",
        "- It does this by learning how words that appear together in sentences are related.\n",
        "\n",
        "**Analogy**: Think of it like a game where you have a few words around a missing word, and you try to guess what that missing word is based on the surrounding context.\n",
        "\n",
        "#### Advantages:\n",
        "- Works well with smaller datasets.\n",
        "- It tends to be faster to train than Skip-Gram.\n",
        "\n",
        "---\n",
        "\n",
        "### 2. Skip-Gram\n",
        "\n",
        "#### Overview:\n",
        "- **Goal**: Predict the context (surrounding words) given a target word.\n",
        "- **How it works**: The model takes a single word (target word) and tries to predict the words that appear around it.\n",
        "\n",
        "#### Example:\n",
        "Using the same sentence:\n",
        "> \"The cat sits on the mat.\"\n",
        "\n",
        "Let's focus on the word **\"sits\"**:\n",
        "- Target word: **\"sits\"**\n",
        "- Context words: [\"The\", \"cat\", \"on\", \"the\"]\n",
        "\n",
        "In Skip-Gram:\n",
        "- The model will take the target word **\"sits\"** and try to predict the context words [\"The\", \"cat\", \"on\", \"the\"].\n",
        "- Essentially, it’s trying to figure out what words are likely to appear around the word **\"sits\"** based on its training.\n",
        "\n",
        "**Analogy**: Imagine you have one word in the middle, and your goal is to guess what words are typically found around it.\n",
        "\n",
        "#### Advantages:\n",
        "- Works well with large datasets.\n",
        "- Better at capturing rare words and understanding complex word relationships.\n",
        "\n",
        "---\n",
        "\n",
        "### Key Differences Between CBOW and Skip-Gram\n",
        "\n",
        "1. **Direction of Prediction**:\n",
        "   - **CBOW**: Predicts the target word based on its context words.\n",
        "   - **Skip-Gram**: Predicts the context words given the target word.\n",
        "\n",
        "2. **Use Cases**:\n",
        "   - **CBOW** is faster and works better for frequent words, making it useful for smaller datasets.\n",
        "   - **Skip-Gram** tends to be better for learning representations of rare words, but it is computationally slower.\n",
        "\n",
        "---\n",
        "\n",
        "### Quick Summary with Simple Example\n",
        "\n",
        "#### Imagine this sentence:\n",
        "> \"I like to play football.\"\n",
        "\n",
        "- **CBOW**:\n",
        "  - Input (context words): [\"I\", \"like\", \"to\", \"football\"]\n",
        "  - Output (predicted word): **\"play\"**\n",
        "\n",
        "- **Skip-Gram**:\n",
        "  - Input (target word): **\"play\"**\n",
        "  - Output (predicted context words): [\"I\", \"like\", \"to\", \"football\"]\n",
        "\n",
        "### Which Model to Use?\n",
        "- If you have a smaller dataset and want faster training, go for **CBOW**.\n",
        "- If you have a larger dataset and care about capturing rare word meanings, choose **Skip-Gram**.\n",
        "\n",
        "I hope this makes CBOW and Skip-Gram more understandable! Let me know if you have any other questions!"
      ],
      "metadata": {
        "id": "KBopiLYTaZwe"
      }
    },
    {
      "cell_type": "code",
      "source": [
        "# Sample data\n",
        "sentences = [\n",
        "    \"The quick brown fox jumps over the lazy dog\",\n",
        "    \"I love natural language processing\",\n",
        "    \"Word embeddings are cool\",\n",
        "    \"Gensim makes it easy to train models\",\n",
        "    \"Machine learning is amazing\"\n",
        "]"
      ],
      "metadata": {
        "id": "hYc5hE-ou9Ow"
      },
      "execution_count": 58,
      "outputs": []
    },
    {
      "cell_type": "code",
      "source": [
        "sentences"
      ],
      "metadata": {
        "colab": {
          "base_uri": "https://localhost:8080/"
        },
        "id": "FHJcRcwbaoV7",
        "outputId": "3b60027f-21cc-42a7-e1e3-c2f0be48f6d1"
      },
      "execution_count": 59,
      "outputs": [
        {
          "output_type": "execute_result",
          "data": {
            "text/plain": [
              "['The quick brown fox jumps over the lazy dog',\n",
              " 'I love natural language processing',\n",
              " 'Word embeddings are cool',\n",
              " 'Gensim makes it easy to train models',\n",
              " 'Machine learning is amazing']"
            ]
          },
          "metadata": {},
          "execution_count": 59
        }
      ]
    },
    {
      "cell_type": "code",
      "source": [
        "#process of tokenization\n",
        "corpus = [sentence.lower().split() for sentence in sentences]"
      ],
      "metadata": {
        "id": "cEQs1sNParJT"
      },
      "execution_count": 60,
      "outputs": []
    },
    {
      "cell_type": "code",
      "source": [
        "corpus"
      ],
      "metadata": {
        "colab": {
          "base_uri": "https://localhost:8080/"
        },
        "id": "tRzYil5DbTcL",
        "outputId": "41ee44e0-df2c-4622-aaec-cfa934ca3629"
      },
      "execution_count": 61,
      "outputs": [
        {
          "output_type": "execute_result",
          "data": {
            "text/plain": [
              "[['the', 'quick', 'brown', 'fox', 'jumps', 'over', 'the', 'lazy', 'dog'],\n",
              " ['i', 'love', 'natural', 'language', 'processing'],\n",
              " ['word', 'embeddings', 'are', 'cool'],\n",
              " ['gensim', 'makes', 'it', 'easy', 'to', 'train', 'models'],\n",
              " ['machine', 'learning', 'is', 'amazing']]"
            ]
          },
          "metadata": {},
          "execution_count": 61
        }
      ]
    },
    {
      "cell_type": "markdown",
      "source": [
        "Here's a detailed explanation of each parameter used in the `Word2Vec` model for training with the CBOW architecture:\n",
        "\n",
        "### Parameters Explanation\n",
        "\n",
        "1. **`sentences`**\n",
        "   - **Description**: This parameter expects a list of tokenized sentences, where each sentence is a list of words (tokens).\n",
        "   - **In the example**: `corpus` is the input, which is a list of tokenized sentences (e.g., `[['the', 'quick', 'brown', 'fox'], ['i', 'love', 'natural', 'language', 'processing']]`).\n",
        "   - **Purpose**: It serves as the training data from which word embeddings are learned.\n",
        "\n",
        "2. **`vector_size`**\n",
        "   - **Description**: This parameter sets the dimensionality of the word vectors (embedding size).\n",
        "   - **In the example**: `vector_size=100` means that each word will be represented by a 100-dimensional vector.\n",
        "   - **Purpose**: Higher dimensions can capture more complex relationships between words, but require more computational power and data to train well. Common values range from 100 to 300 for many use cases.\n",
        "\n",
        "3. **`window`**\n",
        "   - **Description**: This parameter specifies the maximum distance between the current (target) word and context words.\n",
        "   - **In the example**: `window=3` means that up to three words before and three words after a target word can be considered context words.\n",
        "   - **Purpose**: A smaller window size focuses on local context, capturing more specific relationships, while a larger window captures broader context and general relationships.\n",
        "\n",
        "4. **`min_count`**\n",
        "   - **Description**: This parameter sets the minimum frequency count for words to be considered in the vocabulary.\n",
        "   - **In the example**: `min_count=1` ensures that all words, even those that appear just once, are included in the model's vocabulary.\n",
        "   - **Purpose**: Increasing this value filters out rare words that may not have enough context to generate meaningful embeddings, reducing noise and memory usage.\n",
        "\n",
        "5. **`workers`**\n",
        "   - **Description**: This parameter defines the number of worker threads to use for training the model.\n",
        "   - **In the example**: `workers=4` means that four threads will be used to train the model in parallel.\n",
        "   - **Purpose**: This speeds up training by allowing multi-threaded processing. The value depends on your CPU's cores and capabilities.\n",
        "\n",
        "6. **`sg`**\n",
        "   - **Description**: This parameter specifies whether to use the **CBOW** (Continuous Bag of Words) or **Skip-Gram** architecture.\n",
        "   - **In the example**: `sg=0` indicates that the CBOW architecture is used.\n",
        "   - **Purpose**: Setting `sg=0` trains a CBOW model, where the context words are used to predict the target word. Setting `sg=1` would instead use the Skip-Gram architecture, which predicts context words given a target word.\n",
        "\n",
        "---\n",
        "\n",
        "### Summary of How It Works in CBOW\n",
        "- The model trains by predicting a target word given the surrounding context words within a window size.\n",
        "- Word embeddings (vectors) are learned through this process, capturing semantic and syntactic word relationships based on their context within the training corpus.\n",
        "- The trained embeddings can then be used for various NLP tasks, such as similarity detection, analogies, or as features for downstream models.\n",
        "\n",
        "Feel free to experiment with these parameters to find what works best for your data!"
      ],
      "metadata": {
        "id": "Gi7fl7gpclkR"
      }
    },
    {
      "cell_type": "code",
      "source": [
        "from gensim.models import Word2Vec"
      ],
      "metadata": {
        "id": "v0ghbIrMbWVq"
      },
      "execution_count": 62,
      "outputs": []
    },
    {
      "cell_type": "code",
      "source": [
        "cbow_model = Word2Vec(\n",
        "    sentences=corpus,  # input corpus\n",
        "    vector_size=100,   # dimensionality of word vectors\n",
        "    window=3,          # context window size\n",
        "    min_count=1,       # minimum frequency count of words to consider\n",
        "    # workers=4,         # number of worker threads for training\n",
        "    sg=0               # using CBOW (sg=0)\n",
        ")"
      ],
      "metadata": {
        "id": "kQ5zdIcdbd-7"
      },
      "execution_count": 63,
      "outputs": []
    },
    {
      "cell_type": "code",
      "source": [
        "cbow_model.build_vocab(corpus)"
      ],
      "metadata": {
        "colab": {
          "base_uri": "https://localhost:8080/"
        },
        "id": "BfmxwjjGc4jG",
        "outputId": "1e4eb717-b7dc-4e2e-a1f5-abe8c2d1194a"
      },
      "execution_count": 64,
      "outputs": [
        {
          "output_type": "stream",
          "name": "stderr",
          "text": [
            "WARNING:gensim.models.keyedvectors:sorting after vectors have been allocated is expensive & error-prone\n"
          ]
        }
      ]
    },
    {
      "cell_type": "code",
      "source": [
        "cbow_model.train(corpus, total_examples=cbow_model.corpus_count, epochs=cbow_model.epochs)"
      ],
      "metadata": {
        "colab": {
          "base_uri": "https://localhost:8080/"
        },
        "id": "Rax0XMGMdX5T",
        "outputId": "6cfb6d31-1398-4ffc-84ce-e9cf90915ce7"
      },
      "execution_count": 65,
      "outputs": [
        {
          "output_type": "stream",
          "name": "stderr",
          "text": [
            "WARNING:gensim.models.word2vec:Effective 'alpha' higher than previous training cycles\n"
          ]
        },
        {
          "output_type": "execute_result",
          "data": {
            "text/plain": [
              "(27, 145)"
            ]
          },
          "metadata": {},
          "execution_count": 65
        }
      ]
    },
    {
      "cell_type": "code",
      "source": [
        "cbow_model.wv.most_similar('language')"
      ],
      "metadata": {
        "colab": {
          "base_uri": "https://localhost:8080/"
        },
        "id": "4I29nq_7ducL",
        "outputId": "9ac7ab9b-3a28-4f4b-a64b-11713f4c805b"
      },
      "execution_count": 67,
      "outputs": [
        {
          "output_type": "execute_result",
          "data": {
            "text/plain": [
              "[('brown', 0.17271064221858978),\n",
              " ('over', 0.16694387793540955),\n",
              " ('makes', 0.13267762959003448),\n",
              " ('easy', 0.11178416758775711),\n",
              " ('dog', 0.11132954806089401),\n",
              " ('natural', 0.10943334549665451),\n",
              " ('it', 0.09739116579294205),\n",
              " ('to', 0.09073993563652039),\n",
              " ('the', 0.07977937161922455),\n",
              " ('is', 0.07317010313272476)]"
            ]
          },
          "metadata": {},
          "execution_count": 67
        }
      ]
    },
    {
      "cell_type": "markdown",
      "source": [
        "lets test without train"
      ],
      "metadata": {
        "id": "OSEMOm70edKd"
      }
    },
    {
      "cell_type": "code",
      "source": [
        "new_cbow_model = Word2Vec(\n",
        "    sentences=corpus,  # input corpus\n",
        "    vector_size=100,   # dimensionality of word vectors\n",
        "    window=3,          # context window size\n",
        "    min_count=1,       # minimum frequency count of words to consider\n",
        "    # workers=4,         # number of worker threads for training\n",
        "    sg=0               # using CBOW (sg=0)\n",
        ")"
      ],
      "metadata": {
        "id": "ckMlBhAxeIwv"
      },
      "execution_count": 68,
      "outputs": []
    },
    {
      "cell_type": "code",
      "source": [
        "new_cbow_model.wv.most_similar('language')"
      ],
      "metadata": {
        "colab": {
          "base_uri": "https://localhost:8080/"
        },
        "id": "0lNyLUSbegTr",
        "outputId": "85dd74bf-accf-4717-d5aa-00b7983f42fb"
      },
      "execution_count": 69,
      "outputs": [
        {
          "output_type": "execute_result",
          "data": {
            "text/plain": [
              "[('fox', 0.15011322498321533),\n",
              " ('easy', 0.14890927076339722),\n",
              " ('love', 0.12808507680892944),\n",
              " ('train', 0.11395914107561111),\n",
              " ('word', 0.09749207645654678),\n",
              " ('the', 0.09314417839050293),\n",
              " ('amazing', 0.09248102456331253),\n",
              " ('to', 0.04810956493020058),\n",
              " ('quick', 0.04646440967917442),\n",
              " ('gensim', 0.03546474128961563)]"
            ]
          },
          "metadata": {},
          "execution_count": 69
        }
      ]
    },
    {
      "cell_type": "markdown",
      "source": [
        "currently both models i created are not perfroming well but it will work on proper data taken from kaggle or somethig this just practice to get overview about word2vec and its techniques."
      ],
      "metadata": {
        "id": "k5h27444fr_4"
      }
    },
    {
      "cell_type": "code",
      "source": [
        "new_cbow_model.wv.doesnt_match(['fox','quick','language','brown'])"
      ],
      "metadata": {
        "colab": {
          "base_uri": "https://localhost:8080/",
          "height": 35
        },
        "id": "E4R6DU2tejs7",
        "outputId": "41641149-ed92-4fc9-9165-04e0f9f1b15e"
      },
      "execution_count": 70,
      "outputs": [
        {
          "output_type": "execute_result",
          "data": {
            "text/plain": [
              "'brown'"
            ],
            "application/vnd.google.colaboratory.intrinsic+json": {
              "type": "string"
            }
          },
          "metadata": {},
          "execution_count": 70
        }
      ]
    },
    {
      "cell_type": "code",
      "source": [
        "cbow_model.wv.doesnt_match(['fox','quick','language','brown'])"
      ],
      "metadata": {
        "colab": {
          "base_uri": "https://localhost:8080/",
          "height": 35
        },
        "id": "vbdjCK-lfkdL",
        "outputId": "4bda6002-c69d-4f56-92b9-f8435fe35596"
      },
      "execution_count": 71,
      "outputs": [
        {
          "output_type": "execute_result",
          "data": {
            "text/plain": [
              "'quick'"
            ],
            "application/vnd.google.colaboratory.intrinsic+json": {
              "type": "string"
            }
          },
          "metadata": {},
          "execution_count": 71
        }
      ]
    },
    {
      "cell_type": "code",
      "source": [
        "cbow_model.wv.similarity('fox','quick')"
      ],
      "metadata": {
        "colab": {
          "base_uri": "https://localhost:8080/"
        },
        "id": "CO9a8qdRfo7L",
        "outputId": "84ba77b1-2cd4-472a-8cc4-68eb39a23657"
      },
      "execution_count": 72,
      "outputs": [
        {
          "output_type": "execute_result",
          "data": {
            "text/plain": [
              "0.06801471"
            ]
          },
          "metadata": {},
          "execution_count": 72
        }
      ]
    },
    {
      "cell_type": "code",
      "source": [
        "cbow_model.wv.get_normed_vectors()"
      ],
      "metadata": {
        "colab": {
          "base_uri": "https://localhost:8080/"
        },
        "id": "-C-QvUhQf_zM",
        "outputId": "f20eb985-c3fc-46c6-b94f-0bc82df461e4"
      },
      "execution_count": 74,
      "outputs": [
        {
          "output_type": "execute_result",
          "data": {
            "text/plain": [
              "array([[-0.00950171,  0.0042506 ,  0.09023783, ..., -0.12455963,\n",
              "         0.01598402,  0.1130238 ],\n",
              "       [-0.12398915, -0.04377455, -0.14285085, ...,  0.04877489,\n",
              "         0.09998415,  0.04579094],\n",
              "       [-0.14864717,  0.06321593,  0.08949994, ..., -0.04124186,\n",
              "        -0.16400231,  0.07770423],\n",
              "       ...,\n",
              "       [-0.08153562, -0.02103823,  0.05378209, ..., -0.11430207,\n",
              "         0.09445185, -0.15459137],\n",
              "       [ 0.1675258 ,  0.12711628,  0.0219835 , ...,  0.15417975,\n",
              "        -0.09893087,  0.08768484],\n",
              "       [-0.16000368,  0.16107379, -0.13084581, ..., -0.05276268,\n",
              "        -0.10674825,  0.16624153]], dtype=float32)"
            ]
          },
          "metadata": {},
          "execution_count": 74
        }
      ]
    },
    {
      "cell_type": "markdown",
      "source": [
        "Calling `cbow_model.wv.get_normed_vectors().shape` will return the shape of the normalized word vectors array from your `Word2Vec` model.\n",
        "\n",
        "### Explanation of the Shape:\n",
        "- The shape is a tuple `(vocab_size, vector_size)`, where:\n",
        "  - `vocab_size` is the number of unique words in your model's vocabulary.\n",
        "  - `vector_size` is the dimensionality of the word vectors (e.g., 100 if you set `vector_size=100` during training).\n",
        "\n",
        "### Example Output:\n",
        "If your model's vocabulary contains 10,000 words and each word vector is of size 100, the shape would be:\n",
        "```python\n",
        "(10000, 100)\n",
        "```\n",
        "\n",
        "You can run this to see the actual shape:\n",
        "```python\n",
        "shape = cbow_model.wv.get_normed_vectors().shape\n",
        "print(\"Shape of normalized vectors:\", shape)\n",
        "```\n",
        "\n",
        "This tells you how many words have embeddings and the dimensionality of those embeddings."
      ],
      "metadata": {
        "id": "OEMQD5Qbg0od"
      }
    },
    {
      "cell_type": "markdown",
      "source": [
        "The method `cbow_model.wv.get_normed_vectors()` in Gensim retrieves the normalized word vectors of your trained `Word2Vec` model.\n",
        "\n",
        "### What Does This Do?\n",
        "\n",
        "- **Normalized Vectors**: When you call this function, it returns a 2D NumPy array of normalized word vectors (i.e., vectors scaled to have a unit norm). This is useful because normalized vectors make certain computations, such as cosine similarity, simpler and faster.\n",
        "- **Shape**: The shape of the returned array is `(vocab_size, vector_size)`, where `vocab_size` is the number of words in your vocabulary and `vector_size` is the dimensionality of the word vectors.\n",
        "- **Efficiency**: Using normalized vectors directly can make computations more efficient in tasks like similarity lookups because normalization would not need to be performed repeatedly.\n",
        "\n",
        "### Example Usage\n",
        "\n",
        "```python\n",
        "# Assuming you have a trained Word2Vec model named 'cbow_model'\n",
        "normalized_vectors = cbow_model.wv.get_normed_vectors()\n",
        "\n",
        "print(normalized_vectors.shape)  # Prints the shape of the normalized vectors\n",
        "print(normalized_vectors[:5])    # Prints the first 5 normalized vectors\n",
        "```\n",
        "\n",
        "### When to Use This\n",
        "\n",
        "- **For Fast Similarity Calculations**: If you frequently need to calculate similarities between words using cosine similarity, using normalized vectors can save computational overhead.\n",
        "- **When Retrieving Precomputed Norms**: This function is handy if you need normalized versions of the vectors for further processing, visualization, or clustering.\n",
        "\n",
        "### Note\n",
        "- Normalization ensures all word vectors have a length (or magnitude) of 1, placing them on the unit sphere. This is particularly helpful for tasks like clustering or comparing similarity in vector spaces where the relative angles between vectors matter."
      ],
      "metadata": {
        "id": "OzQUmEfFg5ou"
      }
    },
    {
      "cell_type": "code",
      "source": [
        "cbow_model.wv.get_normed_vectors().shape"
      ],
      "metadata": {
        "colab": {
          "base_uri": "https://localhost:8080/"
        },
        "id": "qGovJ2EKgSac",
        "outputId": "5a41fdc8-1b7a-4547-fcd8-01b4d7bc09c4"
      },
      "execution_count": 75,
      "outputs": [
        {
          "output_type": "execute_result",
          "data": {
            "text/plain": [
              "(28, 100)"
            ]
          },
          "metadata": {},
          "execution_count": 75
        }
      ]
    },
    {
      "cell_type": "markdown",
      "source": [
        "The `cbow_model.wv.index_to_key` attribute in Gensim's `Word2Vec` model gives you access to the list of words (vocabulary) in your trained model, ordered by their frequency in the training corpus.\n",
        "\n",
        "### Explanation:\n",
        "- This attribute is a list of words where each element is a unique word from the vocabulary.\n",
        "- The words are ordered by their frequency, with the most frequent word appearing first.\n",
        "- It essentially represents the mapping from integer indices (used internally by the model) to words in the vocabulary.\n",
        "\n",
        "### Example Usage:\n",
        "```python\n",
        "vocab_words = cbow_model.wv.index_to_key\n",
        "print(\"Top 10 words in the vocabulary:\", vocab_words[:10])\n",
        "```\n",
        "\n",
        "### When to Use It:\n",
        "- **Inspecting Vocabulary**: You can quickly see the words that make up the model's vocabulary and check their order of frequency.\n",
        "- **Mapping Indices to Words**: If you have an index and want to know which word it corresponds to, you can use this attribute (e.g., `cbow_model.wv.index_to_key[index]`).\n",
        "- **Working with Embeddings**: Since word vectors in `cbow_model.wv.vectors` correspond to words in `index_to_key` (same order), you can easily pair vectors with their words for analysis or visualization."
      ],
      "metadata": {
        "id": "RtPdAjR0hDuf"
      }
    },
    {
      "cell_type": "code",
      "source": [
        "cbow_model.wv.index_to_key"
      ],
      "metadata": {
        "colab": {
          "base_uri": "https://localhost:8080/"
        },
        "id": "gXakZKa7gZLE",
        "outputId": "9e3e0c7f-307d-4b2e-9112-3ea7f7faf8a1"
      },
      "execution_count": 76,
      "outputs": [
        {
          "output_type": "execute_result",
          "data": {
            "text/plain": [
              "['the',\n",
              " 'is',\n",
              " 'quick',\n",
              " 'brown',\n",
              " 'fox',\n",
              " 'jumps',\n",
              " 'over',\n",
              " 'lazy',\n",
              " 'dog',\n",
              " 'i',\n",
              " 'love',\n",
              " 'natural',\n",
              " 'language',\n",
              " 'processing',\n",
              " 'amazing',\n",
              " 'embeddings',\n",
              " 'are',\n",
              " 'cool',\n",
              " 'gensim',\n",
              " 'makes',\n",
              " 'it',\n",
              " 'easy',\n",
              " 'to',\n",
              " 'train',\n",
              " 'models',\n",
              " 'machine',\n",
              " 'learning',\n",
              " 'word']"
            ]
          },
          "metadata": {},
          "execution_count": 76
        }
      ]
    },
    {
      "cell_type": "code",
      "source": [
        "import matplotlib.pyplot as plt\n",
        "from sklearn.decomposition import PCA\n",
        "import numpy as np\n",
        "\n",
        "# Extract all 28 word vectors for visualization\n",
        "words = cbow_model.wv.index_to_key[:28]  # Select all 28 words in your vocabulary\n",
        "word_vectors = np.array([cbow_model.wv[word] for word in words])\n",
        "\n",
        "# Apply PCA to reduce dimensionality to 2 dimensions\n",
        "pca = PCA(n_components=2)\n",
        "word_vecs_2d = pca.fit_transform(word_vectors)\n",
        "\n",
        "# Plotting the 2D representation using Matplotlib\n",
        "plt.figure(figsize=(10, 6))\n",
        "plt.scatter(word_vecs_2d[:, 0], word_vecs_2d[:, 1], edgecolors='k', c='b')\n",
        "\n",
        "# Annotating the words\n",
        "for i, word in enumerate(words):\n",
        "    plt.text(word_vecs_2d[i, 0] + 0.02, word_vecs_2d[i, 1] + 0.02, word, fontsize=9)\n",
        "\n",
        "plt.title(\"2D PCA Plot of Word Vectors (28 Words)\")\n",
        "plt.xlabel(\"Principal Component 1\")\n",
        "plt.ylabel(\"Principal Component 2\")\n",
        "plt.grid(True)\n",
        "plt.show()\n"
      ],
      "metadata": {
        "colab": {
          "base_uri": "https://localhost:8080/",
          "height": 671
        },
        "id": "-rBjadFdgqXT",
        "outputId": "6b723468-6e1d-4114-e7bf-71a61a659928"
      },
      "execution_count": 77,
      "outputs": [
        {
          "output_type": "display_data",
          "data": {
            "text/plain": [
              "<Figure size 1000x600 with 1 Axes>"
            ],
            "image/png": "[encoded data removed]"
          },
          "metadata": {}
        }
      ]
    }
  ]
}